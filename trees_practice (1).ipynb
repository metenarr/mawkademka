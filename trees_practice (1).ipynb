{
  "cells": [
    {
      "cell_type": "markdown",
      "metadata": {
        "id": "K-AdXHMHEZED"
      },
      "source": [
        "# Домашнее задание по деревьям принятия решений\n",
        "Задача кредитного скоринга - одна из наиболее популярных областей, где применяются алгоритмы машинного обучения.<br>\n",
        "Здесь мы будет прогнозировать, что человек просрочит выплаты по кредиту на 3 месяца и более (целевой признак - Delinquent90).<br>\n",
        "В качестве метрики была выбрана AUC (Area Under Curve)."
      ]
    },
    {
      "cell_type": "markdown",
      "metadata": {
        "id": "PJWRBxCAEZEG"
      },
      "source": [
        "Признаки клиентов банка:\n",
        "- Age - возраст (вещественный)\n",
        "- Income - месячный доход (вещественный)\n",
        "- BalanceToCreditLimit - отношение баланса на кредитной карте к лимиту по кредиту (вещественный)\n",
        "- DIR - Debt-to-income Ratio (вещественный)\n",
        "- NumLoans - число заемов и кредитных линий\n",
        "- NumRealEstateLoans - число ипотек и заемов, связанных с недвижимостью (натуральное число)\n",
        "- NumDependents - число членов семьи, которых содержит клиент, исключая самого клиента (натуральное число)\n",
        "- Num30-59Delinquencies - число просрочек выплат по кредиту от 30 до 59 дней (натуральное число)\n",
        "- Num60-89Delinquencies - число просрочек выплат по кредиту от 60 до 89 дней (натуральное число)\n",
        "- Delinquent90 - были ли просрочки выплат по кредиту более 90 дней (бинарный) - имеется только в обучающей выборке"
      ]
    },
    {
      "cell_type": "markdown",
      "metadata": {
        "id": "YIcY6ZL0EZEH"
      },
      "source": [
        "## 1. Обучение дерева принятия решений\n",
        "## 1.1 Подгрузка библиотек и инициализация вспомогательных функций"
      ]
    },
    {
      "cell_type": "code",
      "execution_count": null,
      "metadata": {
        "id": "clgE-sxiEZEH"
      },
      "outputs": [],
      "source": [
        "import warnings\n",
        "warnings.filterwarnings('ignore')\n",
        "import numpy as np\n",
        "import pandas as pd\n",
        "import matplotlib.pyplot as plt\n",
        "import seaborn as sns\n",
        "from sklearn.tree import DecisionTreeClassifier, plot_tree\n",
        "from sklearn.model_selection import GridSearchCV, train_test_split\n",
        "from sklearn.metrics import confusion_matrix"
      ]
    },
    {
      "cell_type": "code",
      "execution_count": null,
      "metadata": {
        "id": "MwGNhFUpEZEI"
      },
      "outputs": [],
      "source": [
        "from sklearn.metrics import accuracy_score, precision_score, recall_score, f1_score\n",
        "from sklearn.metrics import roc_auc_score, roc_curve\n",
        "\n",
        "# функция, выдающая базовые метрики классификации\n",
        "def quality_report(prediction, actual):\n",
        "    print(\"Accuracy: {:.3f}\\nPrecision: {:.3f}\\nRecall: {:.3f}\\nf1_score: {:.3f}\".format(\n",
        "        accuracy_score(prediction, actual),\n",
        "        precision_score(prediction, actual),\n",
        "        recall_score(prediction, actual),\n",
        "        f1_score(prediction, actual)\n",
        "    ))\n",
        "\n",
        "# функция для отрисовки roc-кривой и подсчёта\n",
        "def plot_roc_curve(prob_prediction, actual):\n",
        "    fpr, tpr, thresholds = roc_curve(y_val, prob_prediction)\n",
        "    auc_score = roc_auc_score(y_val, prob_prediction)\n",
        "\n",
        "    plt.plot(fpr, tpr, label='ROC curve ')\n",
        "    plt.plot([0, 1], [0, 1])\n",
        "    plt.xlim([0.0, 1.0])\n",
        "    plt.ylim([0.0, 1.05])\n",
        "    plt.xlabel('False Positive Rate')\n",
        "    plt.ylabel('True Positive Rate')\n",
        "    plt.title('ROC AUC: {:.3f}'.format(auc_score))\n",
        "    plt.show()"
      ]
    },
    {
      "cell_type": "markdown",
      "metadata": {
        "id": "ouNECjVqEZEJ"
      },
      "source": [
        "## 1.2 Загрузка данных"
      ]
    },
    {
      "cell_type": "code",
      "execution_count": null,
      "metadata": {
        "id": "V4dEUEonEZEJ"
      },
      "outputs": [],
      "source": [
        "train_df = pd.read_csv('credit_scoring_train.csv', index_col='client_id')\n",
        "test_df = pd.read_csv('credit_scoring_test.csv', index_col='client_id')"
      ]
    },
    {
      "cell_type": "code",
      "execution_count": null,
      "metadata": {
        "colab": {
          "base_uri": "https://localhost:8080/"
        },
        "id": "vk6BJ1E-EZEJ",
        "outputId": "ba5f4081-d440-4e14-d17b-84c01ea0af2c"
      },
      "outputs": [
        {
          "output_type": "execute_result",
          "data": {
            "text/plain": [
              "(75000, 10)"
            ]
          },
          "metadata": {},
          "execution_count": 7
        }
      ],
      "source": [
        "# размер тренировочного набора\n",
        "train_df.shape"
      ]
    },
    {
      "cell_type": "code",
      "execution_count": null,
      "metadata": {
        "colab": {
          "base_uri": "https://localhost:8080/",
          "height": 238
        },
        "id": "7CvD0vuCEZEK",
        "outputId": "611ce568-2cdc-48a9-84bc-fcedadf9ded9"
      },
      "outputs": [
        {
          "output_type": "execute_result",
          "data": {
            "text/plain": [
              "                   DIR   Age  NumLoans  NumRealEstateLoans  NumDependents  \\\n",
              "client_id                                                                   \n",
              "0             0.496289  49.1        13                   0            0.0   \n",
              "1             0.433567  48.0         9                   2            2.0   \n",
              "2          2206.731199  55.5        21                   1            NaN   \n",
              "3           886.132793  55.3         3                   0            0.0   \n",
              "4             0.000000  52.3         1                   0            0.0   \n",
              "\n",
              "           Num30-59Delinquencies  Num60-89Delinquencies       Income  \\\n",
              "client_id                                                              \n",
              "0                              2                      0  5298.360639   \n",
              "1                              1                      0  6008.056256   \n",
              "2                              1                      0          NaN   \n",
              "3                              0                      0          NaN   \n",
              "4                              0                      0  2504.613105   \n",
              "\n",
              "           BalanceToCreditLimit  Delinquent90  \n",
              "client_id                                      \n",
              "0                      0.387028             0  \n",
              "1                      0.234679             0  \n",
              "2                      0.348227             0  \n",
              "3                      0.971930             0  \n",
              "4                      1.004350             0  "
            ],
            "text/html": [
              "\n",
              "  <div id=\"df-c09a5336-253b-4c33-bfde-d0120db9e678\" class=\"colab-df-container\">\n",
              "    <div>\n",
              "<style scoped>\n",
              "    .dataframe tbody tr th:only-of-type {\n",
              "        vertical-align: middle;\n",
              "    }\n",
              "\n",
              "    .dataframe tbody tr th {\n",
              "        vertical-align: top;\n",
              "    }\n",
              "\n",
              "    .dataframe thead th {\n",
              "        text-align: right;\n",
              "    }\n",
              "</style>\n",
              "<table border=\"1\" class=\"dataframe\">\n",
              "  <thead>\n",
              "    <tr style=\"text-align: right;\">\n",
              "      <th></th>\n",
              "      <th>DIR</th>\n",
              "      <th>Age</th>\n",
              "      <th>NumLoans</th>\n",
              "      <th>NumRealEstateLoans</th>\n",
              "      <th>NumDependents</th>\n",
              "      <th>Num30-59Delinquencies</th>\n",
              "      <th>Num60-89Delinquencies</th>\n",
              "      <th>Income</th>\n",
              "      <th>BalanceToCreditLimit</th>\n",
              "      <th>Delinquent90</th>\n",
              "    </tr>\n",
              "    <tr>\n",
              "      <th>client_id</th>\n",
              "      <th></th>\n",
              "      <th></th>\n",
              "      <th></th>\n",
              "      <th></th>\n",
              "      <th></th>\n",
              "      <th></th>\n",
              "      <th></th>\n",
              "      <th></th>\n",
              "      <th></th>\n",
              "      <th></th>\n",
              "    </tr>\n",
              "  </thead>\n",
              "  <tbody>\n",
              "    <tr>\n",
              "      <th>0</th>\n",
              "      <td>0.496289</td>\n",
              "      <td>49.1</td>\n",
              "      <td>13</td>\n",
              "      <td>0</td>\n",
              "      <td>0.0</td>\n",
              "      <td>2</td>\n",
              "      <td>0</td>\n",
              "      <td>5298.360639</td>\n",
              "      <td>0.387028</td>\n",
              "      <td>0</td>\n",
              "    </tr>\n",
              "    <tr>\n",
              "      <th>1</th>\n",
              "      <td>0.433567</td>\n",
              "      <td>48.0</td>\n",
              "      <td>9</td>\n",
              "      <td>2</td>\n",
              "      <td>2.0</td>\n",
              "      <td>1</td>\n",
              "      <td>0</td>\n",
              "      <td>6008.056256</td>\n",
              "      <td>0.234679</td>\n",
              "      <td>0</td>\n",
              "    </tr>\n",
              "    <tr>\n",
              "      <th>2</th>\n",
              "      <td>2206.731199</td>\n",
              "      <td>55.5</td>\n",
              "      <td>21</td>\n",
              "      <td>1</td>\n",
              "      <td>NaN</td>\n",
              "      <td>1</td>\n",
              "      <td>0</td>\n",
              "      <td>NaN</td>\n",
              "      <td>0.348227</td>\n",
              "      <td>0</td>\n",
              "    </tr>\n",
              "    <tr>\n",
              "      <th>3</th>\n",
              "      <td>886.132793</td>\n",
              "      <td>55.3</td>\n",
              "      <td>3</td>\n",
              "      <td>0</td>\n",
              "      <td>0.0</td>\n",
              "      <td>0</td>\n",
              "      <td>0</td>\n",
              "      <td>NaN</td>\n",
              "      <td>0.971930</td>\n",
              "      <td>0</td>\n",
              "    </tr>\n",
              "    <tr>\n",
              "      <th>4</th>\n",
              "      <td>0.000000</td>\n",
              "      <td>52.3</td>\n",
              "      <td>1</td>\n",
              "      <td>0</td>\n",
              "      <td>0.0</td>\n",
              "      <td>0</td>\n",
              "      <td>0</td>\n",
              "      <td>2504.613105</td>\n",
              "      <td>1.004350</td>\n",
              "      <td>0</td>\n",
              "    </tr>\n",
              "  </tbody>\n",
              "</table>\n",
              "</div>\n",
              "    <div class=\"colab-df-buttons\">\n",
              "\n",
              "  <div class=\"colab-df-container\">\n",
              "    <button class=\"colab-df-convert\" onclick=\"convertToInteractive('df-c09a5336-253b-4c33-bfde-d0120db9e678')\"\n",
              "            title=\"Convert this dataframe to an interactive table.\"\n",
              "            style=\"display:none;\">\n",
              "\n",
              "  <svg xmlns=\"http://www.w3.org/2000/svg\" height=\"24px\" viewBox=\"0 -960 960 960\">\n",
              "    <path d=\"M120-120v-720h720v720H120Zm60-500h600v-160H180v160Zm220 220h160v-160H400v160Zm0 220h160v-160H400v160ZM180-400h160v-160H180v160Zm440 0h160v-160H620v160ZM180-180h160v-160H180v160Zm440 0h160v-160H620v160Z\"/>\n",
              "  </svg>\n",
              "    </button>\n",
              "\n",
              "  <style>\n",
              "    .colab-df-container {\n",
              "      display:flex;\n",
              "      gap: 12px;\n",
              "    }\n",
              "\n",
              "    .colab-df-convert {\n",
              "      background-color: #E8F0FE;\n",
              "      border: none;\n",
              "      border-radius: 50%;\n",
              "      cursor: pointer;\n",
              "      display: none;\n",
              "      fill: #1967D2;\n",
              "      height: 32px;\n",
              "      padding: 0 0 0 0;\n",
              "      width: 32px;\n",
              "    }\n",
              "\n",
              "    .colab-df-convert:hover {\n",
              "      background-color: #E2EBFA;\n",
              "      box-shadow: 0px 1px 2px rgba(60, 64, 67, 0.3), 0px 1px 3px 1px rgba(60, 64, 67, 0.15);\n",
              "      fill: #174EA6;\n",
              "    }\n",
              "\n",
              "    .colab-df-buttons div {\n",
              "      margin-bottom: 4px;\n",
              "    }\n",
              "\n",
              "    [theme=dark] .colab-df-convert {\n",
              "      background-color: #3B4455;\n",
              "      fill: #D2E3FC;\n",
              "    }\n",
              "\n",
              "    [theme=dark] .colab-df-convert:hover {\n",
              "      background-color: #434B5C;\n",
              "      box-shadow: 0px 1px 3px 1px rgba(0, 0, 0, 0.15);\n",
              "      filter: drop-shadow(0px 1px 2px rgba(0, 0, 0, 0.3));\n",
              "      fill: #FFFFFF;\n",
              "    }\n",
              "  </style>\n",
              "\n",
              "    <script>\n",
              "      const buttonEl =\n",
              "        document.querySelector('#df-c09a5336-253b-4c33-bfde-d0120db9e678 button.colab-df-convert');\n",
              "      buttonEl.style.display =\n",
              "        google.colab.kernel.accessAllowed ? 'block' : 'none';\n",
              "\n",
              "      async function convertToInteractive(key) {\n",
              "        const element = document.querySelector('#df-c09a5336-253b-4c33-bfde-d0120db9e678');\n",
              "        const dataTable =\n",
              "          await google.colab.kernel.invokeFunction('convertToInteractive',\n",
              "                                                    [key], {});\n",
              "        if (!dataTable) return;\n",
              "\n",
              "        const docLinkHtml = 'Like what you see? Visit the ' +\n",
              "          '<a target=\"_blank\" href=https://colab.research.google.com/notebooks/data_table.ipynb>data table notebook</a>'\n",
              "          + ' to learn more about interactive tables.';\n",
              "        element.innerHTML = '';\n",
              "        dataTable['output_type'] = 'display_data';\n",
              "        await google.colab.output.renderOutput(dataTable, element);\n",
              "        const docLink = document.createElement('div');\n",
              "        docLink.innerHTML = docLinkHtml;\n",
              "        element.appendChild(docLink);\n",
              "      }\n",
              "    </script>\n",
              "  </div>\n",
              "\n",
              "\n",
              "<div id=\"df-2a615478-0b5b-48bd-8544-ae7fa6de7006\">\n",
              "  <button class=\"colab-df-quickchart\" onclick=\"quickchart('df-2a615478-0b5b-48bd-8544-ae7fa6de7006')\"\n",
              "            title=\"Suggest charts.\"\n",
              "            style=\"display:none;\">\n",
              "\n",
              "<svg xmlns=\"http://www.w3.org/2000/svg\" height=\"24px\"viewBox=\"0 0 24 24\"\n",
              "     width=\"24px\">\n",
              "    <g>\n",
              "        <path d=\"M19 3H5c-1.1 0-2 .9-2 2v14c0 1.1.9 2 2 2h14c1.1 0 2-.9 2-2V5c0-1.1-.9-2-2-2zM9 17H7v-7h2v7zm4 0h-2V7h2v10zm4 0h-2v-4h2v4z\"/>\n",
              "    </g>\n",
              "</svg>\n",
              "  </button>\n",
              "\n",
              "<style>\n",
              "  .colab-df-quickchart {\n",
              "      --bg-color: #E8F0FE;\n",
              "      --fill-color: #1967D2;\n",
              "      --hover-bg-color: #E2EBFA;\n",
              "      --hover-fill-color: #174EA6;\n",
              "      --disabled-fill-color: #AAA;\n",
              "      --disabled-bg-color: #DDD;\n",
              "  }\n",
              "\n",
              "  [theme=dark] .colab-df-quickchart {\n",
              "      --bg-color: #3B4455;\n",
              "      --fill-color: #D2E3FC;\n",
              "      --hover-bg-color: #434B5C;\n",
              "      --hover-fill-color: #FFFFFF;\n",
              "      --disabled-bg-color: #3B4455;\n",
              "      --disabled-fill-color: #666;\n",
              "  }\n",
              "\n",
              "  .colab-df-quickchart {\n",
              "    background-color: var(--bg-color);\n",
              "    border: none;\n",
              "    border-radius: 50%;\n",
              "    cursor: pointer;\n",
              "    display: none;\n",
              "    fill: var(--fill-color);\n",
              "    height: 32px;\n",
              "    padding: 0;\n",
              "    width: 32px;\n",
              "  }\n",
              "\n",
              "  .colab-df-quickchart:hover {\n",
              "    background-color: var(--hover-bg-color);\n",
              "    box-shadow: 0 1px 2px rgba(60, 64, 67, 0.3), 0 1px 3px 1px rgba(60, 64, 67, 0.15);\n",
              "    fill: var(--button-hover-fill-color);\n",
              "  }\n",
              "\n",
              "  .colab-df-quickchart-complete:disabled,\n",
              "  .colab-df-quickchart-complete:disabled:hover {\n",
              "    background-color: var(--disabled-bg-color);\n",
              "    fill: var(--disabled-fill-color);\n",
              "    box-shadow: none;\n",
              "  }\n",
              "\n",
              "  .colab-df-spinner {\n",
              "    border: 2px solid var(--fill-color);\n",
              "    border-color: transparent;\n",
              "    border-bottom-color: var(--fill-color);\n",
              "    animation:\n",
              "      spin 1s steps(1) infinite;\n",
              "  }\n",
              "\n",
              "  @keyframes spin {\n",
              "    0% {\n",
              "      border-color: transparent;\n",
              "      border-bottom-color: var(--fill-color);\n",
              "      border-left-color: var(--fill-color);\n",
              "    }\n",
              "    20% {\n",
              "      border-color: transparent;\n",
              "      border-left-color: var(--fill-color);\n",
              "      border-top-color: var(--fill-color);\n",
              "    }\n",
              "    30% {\n",
              "      border-color: transparent;\n",
              "      border-left-color: var(--fill-color);\n",
              "      border-top-color: var(--fill-color);\n",
              "      border-right-color: var(--fill-color);\n",
              "    }\n",
              "    40% {\n",
              "      border-color: transparent;\n",
              "      border-right-color: var(--fill-color);\n",
              "      border-top-color: var(--fill-color);\n",
              "    }\n",
              "    60% {\n",
              "      border-color: transparent;\n",
              "      border-right-color: var(--fill-color);\n",
              "    }\n",
              "    80% {\n",
              "      border-color: transparent;\n",
              "      border-right-color: var(--fill-color);\n",
              "      border-bottom-color: var(--fill-color);\n",
              "    }\n",
              "    90% {\n",
              "      border-color: transparent;\n",
              "      border-bottom-color: var(--fill-color);\n",
              "    }\n",
              "  }\n",
              "</style>\n",
              "\n",
              "  <script>\n",
              "    async function quickchart(key) {\n",
              "      const quickchartButtonEl =\n",
              "        document.querySelector('#' + key + ' button');\n",
              "      quickchartButtonEl.disabled = true;  // To prevent multiple clicks.\n",
              "      quickchartButtonEl.classList.add('colab-df-spinner');\n",
              "      try {\n",
              "        const charts = await google.colab.kernel.invokeFunction(\n",
              "            'suggestCharts', [key], {});\n",
              "      } catch (error) {\n",
              "        console.error('Error during call to suggestCharts:', error);\n",
              "      }\n",
              "      quickchartButtonEl.classList.remove('colab-df-spinner');\n",
              "      quickchartButtonEl.classList.add('colab-df-quickchart-complete');\n",
              "    }\n",
              "    (() => {\n",
              "      let quickchartButtonEl =\n",
              "        document.querySelector('#df-2a615478-0b5b-48bd-8544-ae7fa6de7006 button');\n",
              "      quickchartButtonEl.style.display =\n",
              "        google.colab.kernel.accessAllowed ? 'block' : 'none';\n",
              "    })();\n",
              "  </script>\n",
              "</div>\n",
              "    </div>\n",
              "  </div>\n"
            ]
          },
          "metadata": {},
          "execution_count": 8
        }
      ],
      "source": [
        "# бегло вглянем на данные в тренировочном наборе\n",
        "train_df.head()"
      ]
    },
    {
      "cell_type": "markdown",
      "metadata": {
        "id": "QmtmQXhLEZEK"
      },
      "source": [
        "В данных наблюдаются пропуски. Необходимо посчитать для каждого признака, сколько информации утеряно, и принять решение о методе обработки пропущенных значений."
      ]
    },
    {
      "cell_type": "code",
      "execution_count": null,
      "metadata": {
        "colab": {
          "base_uri": "https://localhost:8080/"
        },
        "id": "7s7yaG2BEZEK",
        "outputId": "11d5148f-2bb1-4baa-9811-1ce106fb56ca"
      },
      "outputs": [
        {
          "output_type": "stream",
          "name": "stdout",
          "text": [
            "<class 'pandas.core.frame.DataFrame'>\n",
            "Int64Index: 75000 entries, 0 to 74999\n",
            "Data columns (total 10 columns):\n",
            " #   Column                 Non-Null Count  Dtype  \n",
            "---  ------                 --------------  -----  \n",
            " 0   DIR                    75000 non-null  float64\n",
            " 1   Age                    75000 non-null  float64\n",
            " 2   NumLoans               75000 non-null  int64  \n",
            " 3   NumRealEstateLoans     75000 non-null  int64  \n",
            " 4   NumDependents          73084 non-null  float64\n",
            " 5   Num30-59Delinquencies  75000 non-null  int64  \n",
            " 6   Num60-89Delinquencies  75000 non-null  int64  \n",
            " 7   Income                 60153 non-null  float64\n",
            " 8   BalanceToCreditLimit   75000 non-null  float64\n",
            " 9   Delinquent90           75000 non-null  int64  \n",
            "dtypes: float64(5), int64(5)\n",
            "memory usage: 6.3 MB\n"
          ]
        }
      ],
      "source": [
        "train_df.info()"
      ]
    },
    {
      "cell_type": "markdown",
      "metadata": {
        "id": "7J0nvQHHEZEL"
      },
      "source": [
        "Атрибуты таблицы с тренировочными данными представлены в численном виде, обработка типов для признаков не требуется."
      ]
    },
    {
      "cell_type": "markdown",
      "metadata": {
        "id": "NR33fzWwEZEL"
      },
      "source": [
        "## 1.3 Предобработка данных\n",
        "### 1.3.1 Обработка пропусков и невалидных значений"
      ]
    },
    {
      "cell_type": "code",
      "execution_count": null,
      "metadata": {
        "colab": {
          "base_uri": "https://localhost:8080/"
        },
        "id": "H-vOvtwcEZEL",
        "outputId": "716e4a06-d18a-47c0-84d9-7df912e23d32"
      },
      "outputs": [
        {
          "output_type": "execute_result",
          "data": {
            "text/plain": [
              "DIR                       0.000000\n",
              "Age                       0.000000\n",
              "NumLoans                  0.000000\n",
              "NumRealEstateLoans        0.000000\n",
              "NumDependents             2.554667\n",
              "Num30-59Delinquencies     0.000000\n",
              "Num60-89Delinquencies     0.000000\n",
              "Income                   19.796000\n",
              "BalanceToCreditLimit      0.000000\n",
              "Delinquent90              0.000000\n",
              "dtype: float64"
            ]
          },
          "metadata": {},
          "execution_count": 10
        }
      ],
      "source": [
        "# посмотрим, сколько всего пропусков в каждом атрибуте в %\n",
        "train_df.isnull().sum() / train_df.shape[0] * 100"
      ]
    },
    {
      "cell_type": "code",
      "execution_count": null,
      "metadata": {
        "colab": {
          "base_uri": "https://localhost:8080/"
        },
        "id": "Iq2rjptoEZEL",
        "outputId": "0770ed41-969a-4094-a14b-3056e4c45d85"
      },
      "outputs": [
        {
          "output_type": "execute_result",
          "data": {
            "text/plain": [
              "DIR                      0.000000\n",
              "Age                      0.000000\n",
              "NumLoans                 0.000000\n",
              "NumRealEstateLoans       0.000000\n",
              "NumDependents            0.025547\n",
              "Num30-59Delinquencies    0.000000\n",
              "Num60-89Delinquencies    0.000000\n",
              "Income                   0.197960\n",
              "BalanceToCreditLimit     0.000000\n",
              "Delinquent90             0.000000\n",
              "dtype: float64"
            ]
          },
          "metadata": {},
          "execution_count": 11
        }
      ],
      "source": [
        "test_df.isnull().sum() / test_df.shape[0]"
      ]
    },
    {
      "cell_type": "markdown",
      "metadata": {
        "id": "oCRwgx2aEZEL"
      },
      "source": [
        "В тренировочном наборе наблюдаются невалидные значения:\n",
        "- 2.5% в атрибуте NumDependents;\n",
        "- 19.7% в атрибуте Income\n",
        "\n",
        "В тестовом наборе также присутствуют пропущенные значения:\n",
        "- менее 1% в атрибуте NumDependents\n",
        "- менее 1% в атрибуте Income\n",
        "\n",
        "Записи с невалидными значениями можно было бы удалить, но, на мой взгляд, удаление будет критичным, поскольку у нас всего 75_000 записей в тренировочном наборе. После разделения на тренировочный и валидационный датасеты их станет ещё меньше.\n",
        "\n",
        "Также пропуски можно было бы заполнить одним значением, но в атрибуте Income потеря информации составляет около 20% ($\\frac{1}{5}$ ), есть риск, что этим действием я внесу лишние зависимости в данные. <b>На основе этих выводов,</b> я принимаю решение заполнить пропуски в данных с помощью алгоритма машинного обучения через модуль nona."
      ]
    },
    {
      "cell_type": "code",
      "execution_count": null,
      "metadata": {
        "colab": {
          "base_uri": "https://localhost:8080/",
          "height": 331
        },
        "id": "LMppmp7EEZEL",
        "outputId": "d9b7c968-4777-478b-d2a4-fe0668ba4723"
      },
      "outputs": [
        {
          "output_type": "error",
          "ename": "ModuleNotFoundError",
          "evalue": "ignored",
          "traceback": [
            "\u001b[0;31m---------------------------------------------------------------------------\u001b[0m",
            "\u001b[0;31mModuleNotFoundError\u001b[0m                       Traceback (most recent call last)",
            "\u001b[0;32m<ipython-input-12-2faa9b17156b>\u001b[0m in \u001b[0;36m<cell line: 1>\u001b[0;34m()\u001b[0m\n\u001b[0;32m----> 1\u001b[0;31m \u001b[0;32mfrom\u001b[0m \u001b[0mnona\u001b[0m\u001b[0;34m.\u001b[0m\u001b[0mnona\u001b[0m \u001b[0;32mimport\u001b[0m \u001b[0mnona\u001b[0m\u001b[0;34m\u001b[0m\u001b[0;34m\u001b[0m\u001b[0m\n\u001b[0m\u001b[1;32m      2\u001b[0m \u001b[0mnona\u001b[0m\u001b[0;34m(\u001b[0m\u001b[0mtrain_df\u001b[0m\u001b[0;34m)\u001b[0m\u001b[0;34m\u001b[0m\u001b[0;34m\u001b[0m\u001b[0m\n",
            "\u001b[0;31mModuleNotFoundError\u001b[0m: No module named 'nona'",
            "",
            "\u001b[0;31m---------------------------------------------------------------------------\u001b[0;32m\nNOTE: If your import is failing due to a missing package, you can\nmanually install dependencies using either !pip or !apt.\n\nTo view examples of installing some common dependencies, click the\n\"Open Examples\" button below.\n\u001b[0;31m---------------------------------------------------------------------------\u001b[0m\n"
          ],
          "errorDetails": {
            "actions": [
              {
                "action": "open_url",
                "actionText": "Open Examples",
                "url": "/notebooks/snippets/importing_libraries.ipynb"
              }
            ]
          }
        }
      ],
      "source": [
        "from nona.nona import nona\n",
        "nona(train_df)"
      ]
    },
    {
      "cell_type": "code",
      "execution_count": null,
      "metadata": {
        "scrolled": true,
        "id": "i177DuqDEZEM"
      },
      "outputs": [],
      "source": [
        "train_df"
      ]
    },
    {
      "cell_type": "code",
      "execution_count": null,
      "metadata": {
        "scrolled": true,
        "id": "WbjyMIoEEZEM"
      },
      "outputs": [],
      "source": [
        "train_df.info()"
      ]
    },
    {
      "cell_type": "code",
      "execution_count": null,
      "metadata": {
        "id": "MPeKFCdPEZEM"
      },
      "outputs": [],
      "source": [
        "train_df.isnull().sum() / train_df.shape[0] * 100"
      ]
    },
    {
      "cell_type": "markdown",
      "metadata": {
        "id": "pgX8wjYPEZEM"
      },
      "source": [
        "Невалидные значения, как показано выше, устранены."
      ]
    },
    {
      "cell_type": "markdown",
      "metadata": {
        "id": "w3Dad02dEZEM"
      },
      "source": [
        "### 1.3.2 Обработка выбросов\n",
        "Последний штрих $-$ поиск и обработка аномальных значений в данных. Проверим все признаки с помощью ящиков с усами."
      ]
    },
    {
      "cell_type": "code",
      "execution_count": null,
      "metadata": {
        "id": "8--Xi2NTEZEN"
      },
      "outputs": [],
      "source": [
        "for column in train_df.columns:\n",
        "    # будем сразу рассчитывать статистически \"правильные\" max и min\n",
        "    IQR = np.quantile(train_df[column], .75) - np.quantile(train_df[column], .25)\n",
        "    stats_max, stats_min = 1.5 * IQR + np.quantile(train_df[column], .75), \\\n",
        "            np.quantile(train_df[column], .25) - 1.5 * IQR\n",
        "\n",
        "    plt.boxplot(train_df[column])\n",
        "    plt.title(f\"{column}\\nmax: {round(stats_max, 2)}, min: {round(stats_min, 2)}\")\n",
        "    plt.show();"
      ]
    },
    {
      "cell_type": "markdown",
      "metadata": {
        "id": "Yu8L8DqWEZEN"
      },
      "source": [
        "Попробуем проанализировать результаты. Однозначно нет выбросов в признаке Delinquent90, поскольку он бинарный.\n",
        "В атрибутах, названия которых начинаются с Num, присутствуют отрицательные значения, хотя по всем показателям это должны быть натуральные числа.\n",
        "Посмотрим, сколько аномальных значений среди признаков."
      ]
    },
    {
      "cell_type": "code",
      "execution_count": null,
      "metadata": {
        "id": "1D4iM2L8EZEN"
      },
      "outputs": [],
      "source": [
        "for column in train_df.columns:\n",
        "    IQR = np.quantile(train_df[column], .75) - np.quantile(train_df[column], .25)\n",
        "    stats_max, stats_min = 1.5 * IQR + np.quantile(train_df[column], .75), \\\n",
        "            np.quantile(train_df[column], .25) - 1.5 * IQR\n",
        "\n",
        "    print(f\"{column}\\nбольшие: {len(train_df[train_df[column] > stats_max])}; маленькие: {len(train_df[train_df[column] < stats_min])}\\n\")"
      ]
    },
    {
      "cell_type": "markdown",
      "metadata": {
        "id": "KKp7jNBjEZEN"
      },
      "source": [
        "Значения признака age не кажутся такими большими и отклоняющимися сильно, но наблюдается сильный разброс в признаке Income. В этом признаке присутствуют отрицательные значения, вероятно, это валидные значения, которые получаются в тех случаях, когда клиент не имеет дохода, но вынужден тратить. Возможно, такие значения в признаке будут однозначно указывать, что клиент не сможет заплатить через 3 месяца. Однако от слишком высоких значений можно избавиться, к тому же их не так много, ведь основная масса клиентов банка имеет средний доход."
      ]
    },
    {
      "cell_type": "code",
      "execution_count": null,
      "metadata": {
        "id": "kbjWK768EZEN"
      },
      "outputs": [],
      "source": [
        "train_df.drop(index=train_df[train_df['Income'] > 13_414].index, inplace=True)\n",
        "print(train_df.shape)"
      ]
    },
    {
      "cell_type": "markdown",
      "metadata": {
        "id": "vBH7QlphEZEN"
      },
      "source": [
        "Также очевидно, что в признаке NumDependents нужно избавиться от записей, в которых значение более 7: очевидно, что количество людей на содержании в среднем 5-6."
      ]
    },
    {
      "cell_type": "code",
      "execution_count": null,
      "metadata": {
        "id": "uM-nIabpEZEO"
      },
      "outputs": [],
      "source": [
        "train_df.drop(index=train_df[train_df['NumDependents'] >= 7].index, inplace=True)\n",
        "print(train_df.shape)"
      ]
    },
    {
      "cell_type": "code",
      "execution_count": null,
      "metadata": {
        "id": "kOgfl3wLEZEO"
      },
      "outputs": [],
      "source": [
        "train_df.columns"
      ]
    },
    {
      "cell_type": "markdown",
      "metadata": {
        "id": "a672juHjEZEO"
      },
      "source": [
        "В признаках, отвечающих за количество рассрочек и займов у клиента, нужно избавиться от значений, которые больше 20."
      ]
    },
    {
      "cell_type": "code",
      "execution_count": null,
      "metadata": {
        "id": "Poii2OLmEZEO"
      },
      "outputs": [],
      "source": [
        "train_df.drop(index=train_df[train_df['Num30-59Delinquencies'] >= 20].index, inplace=True)\n",
        "train_df.drop(index=train_df[train_df['Num60-89Delinquencies'] >= 20].index, inplace=True)\n",
        "train_df.drop(index=train_df[train_df['NumLoans'] >= 20].index, inplace=True)\n",
        "print(train_df.shape)"
      ]
    },
    {
      "cell_type": "markdown",
      "metadata": {
        "id": "JHO78nwsEZEO"
      },
      "source": [
        "Также очень странно выглядит признак DIR, уберём в нём выбросы."
      ]
    },
    {
      "cell_type": "code",
      "execution_count": null,
      "metadata": {
        "id": "2nzPzHG6EZEP"
      },
      "outputs": [],
      "source": [
        "train_df.drop(index=train_df[train_df['DIR'] > 1.89].index, inplace=True)\n",
        "print(train_df.shape)"
      ]
    },
    {
      "cell_type": "code",
      "execution_count": null,
      "metadata": {
        "id": "kf8-eqtSEZEP"
      },
      "outputs": [],
      "source": [
        "for column in train_df.columns:\n",
        "    # будем сразу рассчитывать статистически \"правильные\" max и min\n",
        "    IQR = np.quantile(train_df[column], .75) - np.quantile(train_df[column], .25)\n",
        "    stats_max, stats_min = 1.5 * IQR + np.quantile(train_df[column], .75), \\\n",
        "            np.quantile(train_df[column], .25) - 1.5 * IQR\n",
        "\n",
        "    plt.boxplot(train_df[column])\n",
        "    plt.title(f\"{column}\\nmax: {round(stats_max, 2)}, min: {round(stats_min, 2)}\")\n",
        "    plt.show();"
      ]
    },
    {
      "cell_type": "markdown",
      "metadata": {
        "id": "GJ3B3ZEJEZEP"
      },
      "source": [
        "## Вывод\n",
        "Данные предобработаны. В ходе предобработки данных были заполнены пропуски в данных, а также обработаны аномальные значения. Данные представлены в численном виде, они готовы для следующего этапа."
      ]
    },
    {
      "cell_type": "code",
      "execution_count": null,
      "metadata": {
        "id": "ayRsQnz3EZEP"
      },
      "outputs": [],
      "source": [
        "train_df.head(5)"
      ]
    },
    {
      "cell_type": "markdown",
      "metadata": {
        "id": "ndIxKCY6EZEQ"
      },
      "source": [
        "## 1.4 Обучение модели дерева принятия решений\n",
        "### 1.4.1 Разделение данных на тренировочный и валиадационный наборы"
      ]
    },
    {
      "cell_type": "code",
      "execution_count": null,
      "metadata": {
        "id": "mhpQuuYxEZEQ"
      },
      "outputs": [],
      "source": [
        "# посмотреть на распределение целевой переменной\n",
        "train_df['Delinquent90'].hist(bins=20, color='green');"
      ]
    },
    {
      "cell_type": "markdown",
      "metadata": {
        "id": "myyRHu_4EZEW"
      },
      "source": [
        "В данных явно наблюдается дисбаланс классов. Чтобы гарантировать, что относительные частоты классов приблизительно сохраняются в каждом цикле обучения и цикле проверки, необходимо установить параметр stratify у функции train_test_split. Разделим данные."
      ]
    },
    {
      "cell_type": "code",
      "execution_count": null,
      "metadata": {
        "id": "DlbWboFXEZEX"
      },
      "outputs": [],
      "source": [
        "X_train, X_val, y_train, y_val = train_test_split(\n",
        "    train_df.drop(['Delinquent90'], axis=1),\n",
        "    train_df['Delinquent90'],\n",
        "    test_size=0.3,\n",
        "    random_state=2023,\n",
        "    stratify=train_df['Delinquent90']\n",
        ")"
      ]
    },
    {
      "cell_type": "code",
      "execution_count": null,
      "metadata": {
        "id": "1wJADMDtEZEX"
      },
      "outputs": [],
      "source": [
        "y_train.value_counts(normalize=True)"
      ]
    },
    {
      "cell_type": "code",
      "execution_count": null,
      "metadata": {
        "id": "vy--jS3mEZEX"
      },
      "outputs": [],
      "source": [
        "y_val.value_counts(normalize=True)"
      ]
    },
    {
      "cell_type": "code",
      "execution_count": null,
      "metadata": {
        "id": "symc6TLEEZEX"
      },
      "outputs": [],
      "source": [
        "X_train.hist(figsize=(15, 10));"
      ]
    },
    {
      "cell_type": "markdown",
      "metadata": {
        "id": "AXTsbo1REZEY"
      },
      "source": [
        "### 1.4.2 Baseline\n",
        "Наше первая модель будет наивной и основываться на том предположении, что клиенты банка по целевому признаку будут случайно распределяться с тем же соотношением, какое мы наблюдали в тренировочной и валидационной выборках. Посмотрим и оценим эту гипотезу."
      ]
    },
    {
      "cell_type": "code",
      "execution_count": null,
      "metadata": {
        "id": "JEKUUpfiEZEY"
      },
      "outputs": [],
      "source": [
        "y_naive = np.random.choice([0, 1], size=y_val.shape[0], p=y_train.value_counts(normalize=True))"
      ]
    },
    {
      "cell_type": "code",
      "execution_count": null,
      "metadata": {
        "id": "lUGjkugZEZEY"
      },
      "outputs": [],
      "source": [
        "quality_report(y_naive, y_val)"
      ]
    },
    {
      "cell_type": "code",
      "execution_count": null,
      "metadata": {
        "id": "aLCVvr4dEZEY"
      },
      "outputs": [],
      "source": [
        "plot_roc_curve(y_naive, y_val)"
      ]
    },
    {
      "cell_type": "markdown",
      "metadata": {
        "id": "koSZ74p9EZEY"
      },
      "source": [
        "Несмотря на то, что правильность такой модели очень высокая, фактически наша модель $-$ модель угадывания, к какому классу относится конкретный клиент банка, о чём и сообщает целевая метрика ROC AUC."
      ]
    },
    {
      "cell_type": "markdown",
      "metadata": {
        "id": "N1k038WREZEY"
      },
      "source": [
        "### 1.4.3 Дерево решений без настройки параметров"
      ]
    },
    {
      "cell_type": "code",
      "execution_count": null,
      "metadata": {
        "id": "JT3V6sv8EZEZ"
      },
      "outputs": [],
      "source": [
        "first_tree = DecisionTreeClassifier(max_depth=3, random_state=42)\n",
        "first_tree.fit(X_train, y_train)"
      ]
    },
    {
      "cell_type": "code",
      "execution_count": null,
      "metadata": {
        "id": "CokPQHw2EZEZ"
      },
      "outputs": [],
      "source": [
        "print(\"Train quality\")\n",
        "quality_report(first_tree.predict(X_train), y_train)\n",
        "\n",
        "print(\"\\nTest quality\")\n",
        "quality_report(first_tree.predict(X_val), y_val)"
      ]
    },
    {
      "cell_type": "code",
      "execution_count": null,
      "metadata": {
        "id": "DTK6M1IPEZEZ"
      },
      "outputs": [],
      "source": [
        "plot_roc_curve(first_tree.predict_proba(X_val)[:, 1], y_val)"
      ]
    },
    {
      "cell_type": "markdown",
      "metadata": {
        "id": "d-38qnUAEZEZ"
      },
      "source": [
        "Результат гораздо лучше, классификатор на основе дерева принятия решений дал показатель ROC AUC в 78%, при этом я только глубину дерева урезал до 3 уровней.\n",
        "\n",
        "Модель дерева принятия решений ещё прекрасна тем, что может показать, какие признаки были важны для неё. Визуализируем их."
      ]
    },
    {
      "cell_type": "code",
      "execution_count": null,
      "metadata": {
        "id": "aTcEHCgKEZEa"
      },
      "outputs": [],
      "source": [
        "featureImportance = pd.DataFrame({\"feature\": X_train.columns,\n",
        "                                  \"importance\": first_tree.feature_importances_})\n",
        "\n",
        "featureImportance.set_index('feature', inplace=True)\n",
        "featureImportance.sort_values([\"importance\"], ascending=False, inplace=True)\n",
        "featureImportance[\"importance\"].plot(kind='bar');"
      ]
    },
    {
      "cell_type": "code",
      "execution_count": null,
      "metadata": {
        "id": "JvH5u8UJEZEa"
      },
      "outputs": [],
      "source": [
        "# нарисуем получившееся дерево\n",
        "plot_tree(first_tree,\n",
        "         feature_names=X_train.columns,\n",
        "          rounded=True, filled=True);"
      ]
    },
    {
      "cell_type": "markdown",
      "metadata": {
        "id": "5qw83u9MEZEa"
      },
      "source": [
        "### 1.4.4 Дерево решений с настройкой параметров с помощью GridSearch\n",
        "Получившаяся модель хороша, но её можно попробовать улучшить. Потюним параметры."
      ]
    },
    {
      "cell_type": "code",
      "execution_count": null,
      "metadata": {
        "id": "Y4FevzGtEZEa"
      },
      "outputs": [],
      "source": [
        "tree_params = {\n",
        "               'max_depth': list(range(3,11)),\n",
        "               'min_samples_leaf': list(range(3,11)),\n",
        "               'class_weight': [None, 'balanced']\n",
        "}\n",
        "\n",
        "locally_best_tree = GridSearchCV(DecisionTreeClassifier(random_state=42),\n",
        "                                 tree_params,\n",
        "                                 verbose=True, n_jobs=-1, cv=5,\n",
        "                                scoring='roc_auc')\n",
        "locally_best_tree.fit(X_train, y_train)"
      ]
    },
    {
      "cell_type": "code",
      "execution_count": null,
      "metadata": {
        "id": "LUOlWqEIEZEb"
      },
      "outputs": [],
      "source": [
        "locally_best_tree.best_params_, round(locally_best_tree.best_score_, 3)"
      ]
    },
    {
      "cell_type": "code",
      "execution_count": null,
      "metadata": {
        "id": "GQ50pNd3EZEb"
      },
      "outputs": [],
      "source": [
        "quality_report(locally_best_tree.predict(X_val), y_val)"
      ]
    },
    {
      "cell_type": "code",
      "execution_count": null,
      "metadata": {
        "id": "KOLu4t2PEZEb"
      },
      "outputs": [],
      "source": [
        "plot_roc_curve(locally_best_tree.predict_proba(X_val)[:, 1], y_val)"
      ]
    },
    {
      "cell_type": "code",
      "execution_count": null,
      "metadata": {
        "id": "IaziIdfGEZEb"
      },
      "outputs": [],
      "source": [
        "featureImportance = pd.DataFrame({\"feature\": X_train.columns,\n",
        "                                  \"importance\": locally_best_tree.best_estimator_.feature_importances_})\n",
        "\n",
        "featureImportance.set_index('feature', inplace=True)\n",
        "featureImportance.sort_values([\"importance\"], ascending=False, inplace=True)\n",
        "featureImportance[\"importance\"].plot(kind='bar');"
      ]
    },
    {
      "cell_type": "code",
      "execution_count": null,
      "metadata": {
        "id": "gX6uYM-kEZEb"
      },
      "outputs": [],
      "source": [
        "plot_tree(locally_best_tree.best_estimator_,\n",
        "         rounded=True,\n",
        "         filled=True);"
      ]
    },
    {
      "cell_type": "code",
      "execution_count": null,
      "metadata": {
        "id": "hwlsrERtEZEc"
      },
      "outputs": [],
      "source": [
        "cm = confusion_matrix(y_val, locally_best_tree.predict(X_val))\n",
        "conf_matrix = pd.DataFrame(data = cm, columns = ['Predicted:0','Predicted:1'], index=['Actual:0','Actual:1'])\n",
        "plt.figure(figsize = (5,5))\n",
        "sns.heatmap(conf_matrix, annot=True,fmt='d',cmap=\"YlGnBu\", cbar=False);"
      ]
    },
    {
      "cell_type": "markdown",
      "metadata": {
        "id": "E1fXE7DhEZEc"
      },
      "source": [
        "## 2. Вырастим лес"
      ]
    },
    {
      "cell_type": "markdown",
      "metadata": {
        "id": "tH8RpVTMEZEc"
      },
      "source": [
        "1. Генерирую 1 000 поднаборов обучающего набора, каждый из которых содержит 100 случайных образцов."
      ]
    },
    {
      "cell_type": "code",
      "execution_count": null,
      "metadata": {
        "id": "Hjug5kNMEZEc"
      },
      "outputs": [],
      "source": [
        "from sklearn.model_selection import ShuffleSplit\n",
        "\n",
        "# генерирую 1 000 поднаборов обучающего набора, каждый из которых содержит 100 случайных образцов\n",
        "n_trees = 1000\n",
        "n_instances = 100\n",
        "\n",
        "mini_sets = []\n",
        "\n",
        "rs = ShuffleSplit(n_splits=n_trees, test_size=len(X_train) - n_instances, random_state=42)\n",
        "for mini_train_index, mini_test_index in rs.split(X_train):\n",
        "    X_mini_train = X_train.iloc[mini_train_index]\n",
        "    y_mini_train = y_train.iloc[mini_train_index]\n",
        "    mini_sets.append((X_mini_train, y_mini_train))"
      ]
    },
    {
      "cell_type": "code",
      "execution_count": null,
      "metadata": {
        "id": "dydE67Z0EZEc"
      },
      "outputs": [],
      "source": [
        "from sklearn.base import clone\n",
        "\n",
        "# создаю 1 000 деревьев с наилучшими значениями гиперпараметров\n",
        "forest = [clone(locally_best_tree.best_estimator_) for _ in range(n_trees)]\n",
        "\n",
        "accuracy_scores = []\n",
        "\n",
        "# прохожу по каждому из деревьев и даю ему свой поднабор данных\n",
        "for tree, (X_mini_train, y_mini_train) in zip(forest, mini_sets):\n",
        "    tree.fit(X_mini_train, y_mini_train)\n",
        "\n",
        "    y_pred = tree.predict(X_val) # вырабатываю прогноз\n",
        "    accuracy_scores.append(accuracy_score(y_val, y_pred))\n",
        "\n",
        "# средняя оценка правильности 1 000 деревьев\n",
        "np.mean(accuracy_scores)"
      ]
    },
    {
      "cell_type": "code",
      "execution_count": null,
      "metadata": {
        "id": "j4EkrOzrEZEd"
      },
      "outputs": [],
      "source": [
        "Y_pred = np.empty([n_trees, len(X_val)], dtype=np.uint8)\n",
        "# собрать предсказания с 1 000 деревьев\n",
        "for tree_index, tree in enumerate(forest):\n",
        "    Y_pred[tree_index] = tree.predict(X_val)"
      ]
    },
    {
      "cell_type": "code",
      "execution_count": null,
      "metadata": {
        "id": "ZrXKbk_REZEd"
      },
      "outputs": [],
      "source": [
        "from scipy.stats import mode\n",
        "# найти самое частое предсказание\n",
        "y_pred_majority_votes, n_votes = mode(Y_pred, axis=0)"
      ]
    },
    {
      "cell_type": "code",
      "execution_count": null,
      "metadata": {
        "id": "SSI46LdbEZEd"
      },
      "outputs": [],
      "source": [
        "quality_report(y_val, y_pred_majority_votes.reshape([-1]))"
      ]
    },
    {
      "cell_type": "code",
      "execution_count": null,
      "metadata": {
        "id": "psEem7iKEZEd"
      },
      "outputs": [],
      "source": [
        "plot_roc_curve(y_val, y_pred_majority_votes.reshape([-1]))"
      ]
    },
    {
      "cell_type": "code",
      "execution_count": null,
      "metadata": {
        "id": "emw-md8jEZEd"
      },
      "outputs": [],
      "source": []
    }
  ],
  "metadata": {
    "anaconda-cloud": {},
    "kernelspec": {
      "display_name": "Python 3 (ipykernel)",
      "language": "python",
      "name": "python3"
    },
    "language_info": {
      "codemirror_mode": {
        "name": "ipython",
        "version": 3
      },
      "file_extension": ".py",
      "mimetype": "text/x-python",
      "name": "python",
      "nbconvert_exporter": "python",
      "pygments_lexer": "ipython3",
      "version": "3.9.7"
    },
    "varInspector": {
      "cols": {
        "lenName": 16,
        "lenType": 16,
        "lenVar": 40
      },
      "kernels_config": {
        "python": {
          "delete_cmd_postfix": "",
          "delete_cmd_prefix": "del ",
          "library": "var_list.py",
          "varRefreshCmd": "print(var_dic_list())"
        },
        "r": {
          "delete_cmd_postfix": ") ",
          "delete_cmd_prefix": "rm(",
          "library": "var_list.r",
          "varRefreshCmd": "cat(var_dic_list()) "
        }
      },
      "types_to_exclude": [
        "module",
        "function",
        "builtin_function_or_method",
        "instance",
        "_Feature"
      ],
      "window_display": false
    },
    "colab": {
      "provenance": []
    }
  },
  "nbformat": 4,
  "nbformat_minor": 0
}