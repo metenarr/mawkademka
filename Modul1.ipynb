{
  "nbformat": 4,
  "nbformat_minor": 0,
  "metadata": {
    "colab": {
      "provenance": []
    },
    "kernelspec": {
      "name": "python3",
      "display_name": "Python 3"
    },
    "language_info": {
      "name": "python"
    }
  },
  "cells": [
    {
      "cell_type": "markdown",
      "source": [
        "#Модуль 1"
      ],
      "metadata": {
        "id": "tgLvr_B2tuh2"
      }
    },
    {
      "cell_type": "markdown",
      "source": [
        "## 1.1 Подготовка данных"
      ],
      "metadata": {
        "id": "cdYdwvjStzs2"
      }
    },
    {
      "cell_type": "markdown",
      "source": [
        "На этом экзамена необходимо решить задачу определения злоумышленника по его поведению в сети Интернет. По последовательности из десяти веб-сайтов, посещенных подряд одним и тем же человеком, мы будем идентифицировать этого человека. Идея такая: пользователи Интернета по-разному переходят по ссылкам, и это может помогать их идентифицировать."
      ],
      "metadata": {
        "id": "HFcNG4hg7-4c"
      }
    },
    {
      "cell_type": "code",
      "execution_count": null,
      "metadata": {
        "colab": {
          "base_uri": "https://localhost:8080/",
          "height": 363
        },
        "id": "O02Rxds0tlbQ",
        "outputId": "42747135-3498-44f0-b9ed-31cd64a65939"
      },
      "outputs": [
        {
          "output_type": "execute_result",
          "data": {
            "text/plain": [
              "   session_id  site1                time1  site2                time2  \\\n",
              "0           1    718  2014-02-20 10:02:45    NaN                  NaN   \n",
              "1           2    890  2014-02-22 11:19:50  941.0  2014-02-22 11:19:50   \n",
              "2           3  14769  2013-12-16 16:40:17   39.0  2013-12-16 16:40:18   \n",
              "3           4    782  2014-03-28 10:52:12  782.0  2014-03-28 10:52:42   \n",
              "\n",
              "     site3                time3    site4                time4  site5  ...  \\\n",
              "0      NaN                  NaN      NaN                  NaN    NaN  ...   \n",
              "1   3847.0  2014-02-22 11:19:51    941.0  2014-02-22 11:19:51  942.0  ...   \n",
              "2  14768.0  2013-12-16 16:40:19  14769.0  2013-12-16 16:40:19   37.0  ...   \n",
              "3    782.0  2014-03-28 10:53:12    782.0  2014-03-28 10:53:42  782.0  ...   \n",
              "\n",
              "                 time6    site7                time7    site8  \\\n",
              "0                  NaN      NaN                  NaN      NaN   \n",
              "1  2014-02-22 11:19:51   3847.0  2014-02-22 11:19:52   3846.0   \n",
              "2  2013-12-16 16:40:19  14768.0  2013-12-16 16:40:20  14768.0   \n",
              "3  2014-03-28 10:54:42    782.0  2014-03-28 10:55:12    782.0   \n",
              "\n",
              "                 time8    site9                time9   site10  \\\n",
              "0                  NaN      NaN                  NaN      NaN   \n",
              "1  2014-02-22 11:19:52   1516.0  2014-02-22 11:20:15   1518.0   \n",
              "2  2013-12-16 16:40:21  14768.0  2013-12-16 16:40:22  14768.0   \n",
              "3  2014-03-28 10:55:42    782.0  2014-03-28 10:56:12    782.0   \n",
              "\n",
              "                time10  target  \n",
              "0                  NaN       0  \n",
              "1  2014-02-22 11:20:16       0  \n",
              "2  2013-12-16 16:40:24       0  \n",
              "3  2014-03-28 10:56:42       0  \n",
              "\n",
              "[4 rows x 22 columns]"
            ],
            "text/html": [
              "\n",
              "  <div id=\"df-ae7df843-974a-4dc5-83e2-688caffeafa5\" class=\"colab-df-container\">\n",
              "    <div>\n",
              "<style scoped>\n",
              "    .dataframe tbody tr th:only-of-type {\n",
              "        vertical-align: middle;\n",
              "    }\n",
              "\n",
              "    .dataframe tbody tr th {\n",
              "        vertical-align: top;\n",
              "    }\n",
              "\n",
              "    .dataframe thead th {\n",
              "        text-align: right;\n",
              "    }\n",
              "</style>\n",
              "<table border=\"1\" class=\"dataframe\">\n",
              "  <thead>\n",
              "    <tr style=\"text-align: right;\">\n",
              "      <th></th>\n",
              "      <th>session_id</th>\n",
              "      <th>site1</th>\n",
              "      <th>time1</th>\n",
              "      <th>site2</th>\n",
              "      <th>time2</th>\n",
              "      <th>site3</th>\n",
              "      <th>time3</th>\n",
              "      <th>site4</th>\n",
              "      <th>time4</th>\n",
              "      <th>site5</th>\n",
              "      <th>...</th>\n",
              "      <th>time6</th>\n",
              "      <th>site7</th>\n",
              "      <th>time7</th>\n",
              "      <th>site8</th>\n",
              "      <th>time8</th>\n",
              "      <th>site9</th>\n",
              "      <th>time9</th>\n",
              "      <th>site10</th>\n",
              "      <th>time10</th>\n",
              "      <th>target</th>\n",
              "    </tr>\n",
              "  </thead>\n",
              "  <tbody>\n",
              "    <tr>\n",
              "      <th>0</th>\n",
              "      <td>1</td>\n",
              "      <td>718</td>\n",
              "      <td>2014-02-20 10:02:45</td>\n",
              "      <td>NaN</td>\n",
              "      <td>NaN</td>\n",
              "      <td>NaN</td>\n",
              "      <td>NaN</td>\n",
              "      <td>NaN</td>\n",
              "      <td>NaN</td>\n",
              "      <td>NaN</td>\n",
              "      <td>...</td>\n",
              "      <td>NaN</td>\n",
              "      <td>NaN</td>\n",
              "      <td>NaN</td>\n",
              "      <td>NaN</td>\n",
              "      <td>NaN</td>\n",
              "      <td>NaN</td>\n",
              "      <td>NaN</td>\n",
              "      <td>NaN</td>\n",
              "      <td>NaN</td>\n",
              "      <td>0</td>\n",
              "    </tr>\n",
              "    <tr>\n",
              "      <th>1</th>\n",
              "      <td>2</td>\n",
              "      <td>890</td>\n",
              "      <td>2014-02-22 11:19:50</td>\n",
              "      <td>941.0</td>\n",
              "      <td>2014-02-22 11:19:50</td>\n",
              "      <td>3847.0</td>\n",
              "      <td>2014-02-22 11:19:51</td>\n",
              "      <td>941.0</td>\n",
              "      <td>2014-02-22 11:19:51</td>\n",
              "      <td>942.0</td>\n",
              "      <td>...</td>\n",
              "      <td>2014-02-22 11:19:51</td>\n",
              "      <td>3847.0</td>\n",
              "      <td>2014-02-22 11:19:52</td>\n",
              "      <td>3846.0</td>\n",
              "      <td>2014-02-22 11:19:52</td>\n",
              "      <td>1516.0</td>\n",
              "      <td>2014-02-22 11:20:15</td>\n",
              "      <td>1518.0</td>\n",
              "      <td>2014-02-22 11:20:16</td>\n",
              "      <td>0</td>\n",
              "    </tr>\n",
              "    <tr>\n",
              "      <th>2</th>\n",
              "      <td>3</td>\n",
              "      <td>14769</td>\n",
              "      <td>2013-12-16 16:40:17</td>\n",
              "      <td>39.0</td>\n",
              "      <td>2013-12-16 16:40:18</td>\n",
              "      <td>14768.0</td>\n",
              "      <td>2013-12-16 16:40:19</td>\n",
              "      <td>14769.0</td>\n",
              "      <td>2013-12-16 16:40:19</td>\n",
              "      <td>37.0</td>\n",
              "      <td>...</td>\n",
              "      <td>2013-12-16 16:40:19</td>\n",
              "      <td>14768.0</td>\n",
              "      <td>2013-12-16 16:40:20</td>\n",
              "      <td>14768.0</td>\n",
              "      <td>2013-12-16 16:40:21</td>\n",
              "      <td>14768.0</td>\n",
              "      <td>2013-12-16 16:40:22</td>\n",
              "      <td>14768.0</td>\n",
              "      <td>2013-12-16 16:40:24</td>\n",
              "      <td>0</td>\n",
              "    </tr>\n",
              "    <tr>\n",
              "      <th>3</th>\n",
              "      <td>4</td>\n",
              "      <td>782</td>\n",
              "      <td>2014-03-28 10:52:12</td>\n",
              "      <td>782.0</td>\n",
              "      <td>2014-03-28 10:52:42</td>\n",
              "      <td>782.0</td>\n",
              "      <td>2014-03-28 10:53:12</td>\n",
              "      <td>782.0</td>\n",
              "      <td>2014-03-28 10:53:42</td>\n",
              "      <td>782.0</td>\n",
              "      <td>...</td>\n",
              "      <td>2014-03-28 10:54:42</td>\n",
              "      <td>782.0</td>\n",
              "      <td>2014-03-28 10:55:12</td>\n",
              "      <td>782.0</td>\n",
              "      <td>2014-03-28 10:55:42</td>\n",
              "      <td>782.0</td>\n",
              "      <td>2014-03-28 10:56:12</td>\n",
              "      <td>782.0</td>\n",
              "      <td>2014-03-28 10:56:42</td>\n",
              "      <td>0</td>\n",
              "    </tr>\n",
              "  </tbody>\n",
              "</table>\n",
              "<p>4 rows × 22 columns</p>\n",
              "</div>\n",
              "    <div class=\"colab-df-buttons\">\n",
              "\n",
              "  <div class=\"colab-df-container\">\n",
              "    <button class=\"colab-df-convert\" onclick=\"convertToInteractive('df-ae7df843-974a-4dc5-83e2-688caffeafa5')\"\n",
              "            title=\"Convert this dataframe to an interactive table.\"\n",
              "            style=\"display:none;\">\n",
              "\n",
              "  <svg xmlns=\"http://www.w3.org/2000/svg\" height=\"24px\" viewBox=\"0 -960 960 960\">\n",
              "    <path d=\"M120-120v-720h720v720H120Zm60-500h600v-160H180v160Zm220 220h160v-160H400v160Zm0 220h160v-160H400v160ZM180-400h160v-160H180v160Zm440 0h160v-160H620v160ZM180-180h160v-160H180v160Zm440 0h160v-160H620v160Z\"/>\n",
              "  </svg>\n",
              "    </button>\n",
              "\n",
              "  <style>\n",
              "    .colab-df-container {\n",
              "      display:flex;\n",
              "      gap: 12px;\n",
              "    }\n",
              "\n",
              "    .colab-df-convert {\n",
              "      background-color: #E8F0FE;\n",
              "      border: none;\n",
              "      border-radius: 50%;\n",
              "      cursor: pointer;\n",
              "      display: none;\n",
              "      fill: #1967D2;\n",
              "      height: 32px;\n",
              "      padding: 0 0 0 0;\n",
              "      width: 32px;\n",
              "    }\n",
              "\n",
              "    .colab-df-convert:hover {\n",
              "      background-color: #E2EBFA;\n",
              "      box-shadow: 0px 1px 2px rgba(60, 64, 67, 0.3), 0px 1px 3px 1px rgba(60, 64, 67, 0.15);\n",
              "      fill: #174EA6;\n",
              "    }\n",
              "\n",
              "    .colab-df-buttons div {\n",
              "      margin-bottom: 4px;\n",
              "    }\n",
              "\n",
              "    [theme=dark] .colab-df-convert {\n",
              "      background-color: #3B4455;\n",
              "      fill: #D2E3FC;\n",
              "    }\n",
              "\n",
              "    [theme=dark] .colab-df-convert:hover {\n",
              "      background-color: #434B5C;\n",
              "      box-shadow: 0px 1px 3px 1px rgba(0, 0, 0, 0.15);\n",
              "      filter: drop-shadow(0px 1px 2px rgba(0, 0, 0, 0.3));\n",
              "      fill: #FFFFFF;\n",
              "    }\n",
              "  </style>\n",
              "\n",
              "    <script>\n",
              "      const buttonEl =\n",
              "        document.querySelector('#df-ae7df843-974a-4dc5-83e2-688caffeafa5 button.colab-df-convert');\n",
              "      buttonEl.style.display =\n",
              "        google.colab.kernel.accessAllowed ? 'block' : 'none';\n",
              "\n",
              "      async function convertToInteractive(key) {\n",
              "        const element = document.querySelector('#df-ae7df843-974a-4dc5-83e2-688caffeafa5');\n",
              "        const dataTable =\n",
              "          await google.colab.kernel.invokeFunction('convertToInteractive',\n",
              "                                                    [key], {});\n",
              "        if (!dataTable) return;\n",
              "\n",
              "        const docLinkHtml = 'Like what you see? Visit the ' +\n",
              "          '<a target=\"_blank\" href=https://colab.research.google.com/notebooks/data_table.ipynb>data table notebook</a>'\n",
              "          + ' to learn more about interactive tables.';\n",
              "        element.innerHTML = '';\n",
              "        dataTable['output_type'] = 'display_data';\n",
              "        await google.colab.output.renderOutput(dataTable, element);\n",
              "        const docLink = document.createElement('div');\n",
              "        docLink.innerHTML = docLinkHtml;\n",
              "        element.appendChild(docLink);\n",
              "      }\n",
              "    </script>\n",
              "  </div>\n",
              "\n",
              "\n",
              "<div id=\"df-43b63502-a067-4a16-a8e6-8b212e37c6e5\">\n",
              "  <button class=\"colab-df-quickchart\" onclick=\"quickchart('df-43b63502-a067-4a16-a8e6-8b212e37c6e5')\"\n",
              "            title=\"Suggest charts\"\n",
              "            style=\"display:none;\">\n",
              "\n",
              "<svg xmlns=\"http://www.w3.org/2000/svg\" height=\"24px\"viewBox=\"0 0 24 24\"\n",
              "     width=\"24px\">\n",
              "    <g>\n",
              "        <path d=\"M19 3H5c-1.1 0-2 .9-2 2v14c0 1.1.9 2 2 2h14c1.1 0 2-.9 2-2V5c0-1.1-.9-2-2-2zM9 17H7v-7h2v7zm4 0h-2V7h2v10zm4 0h-2v-4h2v4z\"/>\n",
              "    </g>\n",
              "</svg>\n",
              "  </button>\n",
              "\n",
              "<style>\n",
              "  .colab-df-quickchart {\n",
              "      --bg-color: #E8F0FE;\n",
              "      --fill-color: #1967D2;\n",
              "      --hover-bg-color: #E2EBFA;\n",
              "      --hover-fill-color: #174EA6;\n",
              "      --disabled-fill-color: #AAA;\n",
              "      --disabled-bg-color: #DDD;\n",
              "  }\n",
              "\n",
              "  [theme=dark] .colab-df-quickchart {\n",
              "      --bg-color: #3B4455;\n",
              "      --fill-color: #D2E3FC;\n",
              "      --hover-bg-color: #434B5C;\n",
              "      --hover-fill-color: #FFFFFF;\n",
              "      --disabled-bg-color: #3B4455;\n",
              "      --disabled-fill-color: #666;\n",
              "  }\n",
              "\n",
              "  .colab-df-quickchart {\n",
              "    background-color: var(--bg-color);\n",
              "    border: none;\n",
              "    border-radius: 50%;\n",
              "    cursor: pointer;\n",
              "    display: none;\n",
              "    fill: var(--fill-color);\n",
              "    height: 32px;\n",
              "    padding: 0;\n",
              "    width: 32px;\n",
              "  }\n",
              "\n",
              "  .colab-df-quickchart:hover {\n",
              "    background-color: var(--hover-bg-color);\n",
              "    box-shadow: 0 1px 2px rgba(60, 64, 67, 0.3), 0 1px 3px 1px rgba(60, 64, 67, 0.15);\n",
              "    fill: var(--button-hover-fill-color);\n",
              "  }\n",
              "\n",
              "  .colab-df-quickchart-complete:disabled,\n",
              "  .colab-df-quickchart-complete:disabled:hover {\n",
              "    background-color: var(--disabled-bg-color);\n",
              "    fill: var(--disabled-fill-color);\n",
              "    box-shadow: none;\n",
              "  }\n",
              "\n",
              "  .colab-df-spinner {\n",
              "    border: 2px solid var(--fill-color);\n",
              "    border-color: transparent;\n",
              "    border-bottom-color: var(--fill-color);\n",
              "    animation:\n",
              "      spin 1s steps(1) infinite;\n",
              "  }\n",
              "\n",
              "  @keyframes spin {\n",
              "    0% {\n",
              "      border-color: transparent;\n",
              "      border-bottom-color: var(--fill-color);\n",
              "      border-left-color: var(--fill-color);\n",
              "    }\n",
              "    20% {\n",
              "      border-color: transparent;\n",
              "      border-left-color: var(--fill-color);\n",
              "      border-top-color: var(--fill-color);\n",
              "    }\n",
              "    30% {\n",
              "      border-color: transparent;\n",
              "      border-left-color: var(--fill-color);\n",
              "      border-top-color: var(--fill-color);\n",
              "      border-right-color: var(--fill-color);\n",
              "    }\n",
              "    40% {\n",
              "      border-color: transparent;\n",
              "      border-right-color: var(--fill-color);\n",
              "      border-top-color: var(--fill-color);\n",
              "    }\n",
              "    60% {\n",
              "      border-color: transparent;\n",
              "      border-right-color: var(--fill-color);\n",
              "    }\n",
              "    80% {\n",
              "      border-color: transparent;\n",
              "      border-right-color: var(--fill-color);\n",
              "      border-bottom-color: var(--fill-color);\n",
              "    }\n",
              "    90% {\n",
              "      border-color: transparent;\n",
              "      border-bottom-color: var(--fill-color);\n",
              "    }\n",
              "  }\n",
              "</style>\n",
              "\n",
              "  <script>\n",
              "    async function quickchart(key) {\n",
              "      const quickchartButtonEl =\n",
              "        document.querySelector('#' + key + ' button');\n",
              "      quickchartButtonEl.disabled = true;  // To prevent multiple clicks.\n",
              "      quickchartButtonEl.classList.add('colab-df-spinner');\n",
              "      try {\n",
              "        const charts = await google.colab.kernel.invokeFunction(\n",
              "            'suggestCharts', [key], {});\n",
              "      } catch (error) {\n",
              "        console.error('Error during call to suggestCharts:', error);\n",
              "      }\n",
              "      quickchartButtonEl.classList.remove('colab-df-spinner');\n",
              "      quickchartButtonEl.classList.add('colab-df-quickchart-complete');\n",
              "    }\n",
              "    (() => {\n",
              "      let quickchartButtonEl =\n",
              "        document.querySelector('#df-43b63502-a067-4a16-a8e6-8b212e37c6e5 button');\n",
              "      quickchartButtonEl.style.display =\n",
              "        google.colab.kernel.accessAllowed ? 'block' : 'none';\n",
              "    })();\n",
              "  </script>\n",
              "</div>\n",
              "    </div>\n",
              "  </div>\n"
            ]
          },
          "metadata": {},
          "execution_count": 67
        }
      ],
      "source": [
        "# Подключение библиотек\n",
        "import pandas as pd\n",
        "import numpy as np\n",
        "import matplotlib.pyplot as plt\n",
        "import seaborn as sns\n",
        "\n",
        "# отключить предпреждения\n",
        "import warnings\n",
        "warnings.filterwarnings('ignore')\n",
        "\n",
        "# Загрузка данных\n",
        "train = pd.read_csv(\"train_ses.csv\")\n",
        "test = pd.read_csv(\"test_ses.csv\")\n",
        "\n",
        "train.head(4)"
      ]
    },
    {
      "cell_type": "code",
      "source": [
        "test.head(4)"
      ],
      "metadata": {
        "colab": {
          "base_uri": "https://localhost:8080/",
          "height": 363
        },
        "id": "3osj5zyGvQvv",
        "outputId": "3a353607-8f8b-4bfe-b478-0ded2cf27a93"
      },
      "execution_count": null,
      "outputs": [
        {
          "output_type": "execute_result",
          "data": {
            "text/plain": [
              "   session_id  site1                time1   site2                time2  site3  \\\n",
              "0           1     29  2014-10-04 11:19:53    35.0  2014-10-04 11:19:53   22.0   \n",
              "1           2    782  2014-07-03 11:00:28   782.0  2014-07-03 11:00:53  782.0   \n",
              "2           3     55  2014-12-05 15:55:12    55.0  2014-12-05 15:55:13   55.0   \n",
              "3           4   1023  2014-11-04 10:03:19  1022.0  2014-11-04 10:03:19   50.0   \n",
              "\n",
              "                 time3  site4                time4  site5  ...   site6  \\\n",
              "0  2014-10-04 11:19:54  321.0  2014-10-04 11:19:54   23.0  ...  2211.0   \n",
              "1  2014-07-03 11:00:58  782.0  2014-07-03 11:01:06  782.0  ...   782.0   \n",
              "2  2014-12-05 15:55:14   55.0  2014-12-05 15:56:15   55.0  ...    55.0   \n",
              "3  2014-11-04 10:03:20  222.0  2014-11-04 10:03:21  202.0  ...  3374.0   \n",
              "\n",
              "                 time6   site7                time7  site8  \\\n",
              "0  2014-10-04 11:19:54  6730.0  2014-10-04 11:19:54   21.0   \n",
              "1  2014-07-03 11:01:10   782.0  2014-07-03 11:01:23  782.0   \n",
              "2  2014-12-05 15:56:17    55.0  2014-12-05 15:56:18   55.0   \n",
              "3  2014-11-04 10:03:22    50.0  2014-11-04 10:03:22   48.0   \n",
              "\n",
              "                 time8    site9                time9   site10  \\\n",
              "0  2014-10-04 11:19:54  44582.0  2014-10-04 11:20:00  15336.0   \n",
              "1  2014-07-03 11:01:29    782.0  2014-07-03 11:01:30    782.0   \n",
              "2  2014-12-05 15:56:19   1445.0  2014-12-05 15:56:33   1445.0   \n",
              "3  2014-11-04 10:03:22     48.0  2014-11-04 10:03:23   3374.0   \n",
              "\n",
              "                time10  \n",
              "0  2014-10-04 11:20:00  \n",
              "1  2014-07-03 11:01:53  \n",
              "2  2014-12-05 15:56:36  \n",
              "3  2014-11-04 10:03:23  \n",
              "\n",
              "[4 rows x 21 columns]"
            ],
            "text/html": [
              "\n",
              "  <div id=\"df-92edd779-5cd5-4c31-a917-a1b82864341d\" class=\"colab-df-container\">\n",
              "    <div>\n",
              "<style scoped>\n",
              "    .dataframe tbody tr th:only-of-type {\n",
              "        vertical-align: middle;\n",
              "    }\n",
              "\n",
              "    .dataframe tbody tr th {\n",
              "        vertical-align: top;\n",
              "    }\n",
              "\n",
              "    .dataframe thead th {\n",
              "        text-align: right;\n",
              "    }\n",
              "</style>\n",
              "<table border=\"1\" class=\"dataframe\">\n",
              "  <thead>\n",
              "    <tr style=\"text-align: right;\">\n",
              "      <th></th>\n",
              "      <th>session_id</th>\n",
              "      <th>site1</th>\n",
              "      <th>time1</th>\n",
              "      <th>site2</th>\n",
              "      <th>time2</th>\n",
              "      <th>site3</th>\n",
              "      <th>time3</th>\n",
              "      <th>site4</th>\n",
              "      <th>time4</th>\n",
              "      <th>site5</th>\n",
              "      <th>...</th>\n",
              "      <th>site6</th>\n",
              "      <th>time6</th>\n",
              "      <th>site7</th>\n",
              "      <th>time7</th>\n",
              "      <th>site8</th>\n",
              "      <th>time8</th>\n",
              "      <th>site9</th>\n",
              "      <th>time9</th>\n",
              "      <th>site10</th>\n",
              "      <th>time10</th>\n",
              "    </tr>\n",
              "  </thead>\n",
              "  <tbody>\n",
              "    <tr>\n",
              "      <th>0</th>\n",
              "      <td>1</td>\n",
              "      <td>29</td>\n",
              "      <td>2014-10-04 11:19:53</td>\n",
              "      <td>35.0</td>\n",
              "      <td>2014-10-04 11:19:53</td>\n",
              "      <td>22.0</td>\n",
              "      <td>2014-10-04 11:19:54</td>\n",
              "      <td>321.0</td>\n",
              "      <td>2014-10-04 11:19:54</td>\n",
              "      <td>23.0</td>\n",
              "      <td>...</td>\n",
              "      <td>2211.0</td>\n",
              "      <td>2014-10-04 11:19:54</td>\n",
              "      <td>6730.0</td>\n",
              "      <td>2014-10-04 11:19:54</td>\n",
              "      <td>21.0</td>\n",
              "      <td>2014-10-04 11:19:54</td>\n",
              "      <td>44582.0</td>\n",
              "      <td>2014-10-04 11:20:00</td>\n",
              "      <td>15336.0</td>\n",
              "      <td>2014-10-04 11:20:00</td>\n",
              "    </tr>\n",
              "    <tr>\n",
              "      <th>1</th>\n",
              "      <td>2</td>\n",
              "      <td>782</td>\n",
              "      <td>2014-07-03 11:00:28</td>\n",
              "      <td>782.0</td>\n",
              "      <td>2014-07-03 11:00:53</td>\n",
              "      <td>782.0</td>\n",
              "      <td>2014-07-03 11:00:58</td>\n",
              "      <td>782.0</td>\n",
              "      <td>2014-07-03 11:01:06</td>\n",
              "      <td>782.0</td>\n",
              "      <td>...</td>\n",
              "      <td>782.0</td>\n",
              "      <td>2014-07-03 11:01:10</td>\n",
              "      <td>782.0</td>\n",
              "      <td>2014-07-03 11:01:23</td>\n",
              "      <td>782.0</td>\n",
              "      <td>2014-07-03 11:01:29</td>\n",
              "      <td>782.0</td>\n",
              "      <td>2014-07-03 11:01:30</td>\n",
              "      <td>782.0</td>\n",
              "      <td>2014-07-03 11:01:53</td>\n",
              "    </tr>\n",
              "    <tr>\n",
              "      <th>2</th>\n",
              "      <td>3</td>\n",
              "      <td>55</td>\n",
              "      <td>2014-12-05 15:55:12</td>\n",
              "      <td>55.0</td>\n",
              "      <td>2014-12-05 15:55:13</td>\n",
              "      <td>55.0</td>\n",
              "      <td>2014-12-05 15:55:14</td>\n",
              "      <td>55.0</td>\n",
              "      <td>2014-12-05 15:56:15</td>\n",
              "      <td>55.0</td>\n",
              "      <td>...</td>\n",
              "      <td>55.0</td>\n",
              "      <td>2014-12-05 15:56:17</td>\n",
              "      <td>55.0</td>\n",
              "      <td>2014-12-05 15:56:18</td>\n",
              "      <td>55.0</td>\n",
              "      <td>2014-12-05 15:56:19</td>\n",
              "      <td>1445.0</td>\n",
              "      <td>2014-12-05 15:56:33</td>\n",
              "      <td>1445.0</td>\n",
              "      <td>2014-12-05 15:56:36</td>\n",
              "    </tr>\n",
              "    <tr>\n",
              "      <th>3</th>\n",
              "      <td>4</td>\n",
              "      <td>1023</td>\n",
              "      <td>2014-11-04 10:03:19</td>\n",
              "      <td>1022.0</td>\n",
              "      <td>2014-11-04 10:03:19</td>\n",
              "      <td>50.0</td>\n",
              "      <td>2014-11-04 10:03:20</td>\n",
              "      <td>222.0</td>\n",
              "      <td>2014-11-04 10:03:21</td>\n",
              "      <td>202.0</td>\n",
              "      <td>...</td>\n",
              "      <td>3374.0</td>\n",
              "      <td>2014-11-04 10:03:22</td>\n",
              "      <td>50.0</td>\n",
              "      <td>2014-11-04 10:03:22</td>\n",
              "      <td>48.0</td>\n",
              "      <td>2014-11-04 10:03:22</td>\n",
              "      <td>48.0</td>\n",
              "      <td>2014-11-04 10:03:23</td>\n",
              "      <td>3374.0</td>\n",
              "      <td>2014-11-04 10:03:23</td>\n",
              "    </tr>\n",
              "  </tbody>\n",
              "</table>\n",
              "<p>4 rows × 21 columns</p>\n",
              "</div>\n",
              "    <div class=\"colab-df-buttons\">\n",
              "\n",
              "  <div class=\"colab-df-container\">\n",
              "    <button class=\"colab-df-convert\" onclick=\"convertToInteractive('df-92edd779-5cd5-4c31-a917-a1b82864341d')\"\n",
              "            title=\"Convert this dataframe to an interactive table.\"\n",
              "            style=\"display:none;\">\n",
              "\n",
              "  <svg xmlns=\"http://www.w3.org/2000/svg\" height=\"24px\" viewBox=\"0 -960 960 960\">\n",
              "    <path d=\"M120-120v-720h720v720H120Zm60-500h600v-160H180v160Zm220 220h160v-160H400v160Zm0 220h160v-160H400v160ZM180-400h160v-160H180v160Zm440 0h160v-160H620v160ZM180-180h160v-160H180v160Zm440 0h160v-160H620v160Z\"/>\n",
              "  </svg>\n",
              "    </button>\n",
              "\n",
              "  <style>\n",
              "    .colab-df-container {\n",
              "      display:flex;\n",
              "      gap: 12px;\n",
              "    }\n",
              "\n",
              "    .colab-df-convert {\n",
              "      background-color: #E8F0FE;\n",
              "      border: none;\n",
              "      border-radius: 50%;\n",
              "      cursor: pointer;\n",
              "      display: none;\n",
              "      fill: #1967D2;\n",
              "      height: 32px;\n",
              "      padding: 0 0 0 0;\n",
              "      width: 32px;\n",
              "    }\n",
              "\n",
              "    .colab-df-convert:hover {\n",
              "      background-color: #E2EBFA;\n",
              "      box-shadow: 0px 1px 2px rgba(60, 64, 67, 0.3), 0px 1px 3px 1px rgba(60, 64, 67, 0.15);\n",
              "      fill: #174EA6;\n",
              "    }\n",
              "\n",
              "    .colab-df-buttons div {\n",
              "      margin-bottom: 4px;\n",
              "    }\n",
              "\n",
              "    [theme=dark] .colab-df-convert {\n",
              "      background-color: #3B4455;\n",
              "      fill: #D2E3FC;\n",
              "    }\n",
              "\n",
              "    [theme=dark] .colab-df-convert:hover {\n",
              "      background-color: #434B5C;\n",
              "      box-shadow: 0px 1px 3px 1px rgba(0, 0, 0, 0.15);\n",
              "      filter: drop-shadow(0px 1px 2px rgba(0, 0, 0, 0.3));\n",
              "      fill: #FFFFFF;\n",
              "    }\n",
              "  </style>\n",
              "\n",
              "    <script>\n",
              "      const buttonEl =\n",
              "        document.querySelector('#df-92edd779-5cd5-4c31-a917-a1b82864341d button.colab-df-convert');\n",
              "      buttonEl.style.display =\n",
              "        google.colab.kernel.accessAllowed ? 'block' : 'none';\n",
              "\n",
              "      async function convertToInteractive(key) {\n",
              "        const element = document.querySelector('#df-92edd779-5cd5-4c31-a917-a1b82864341d');\n",
              "        const dataTable =\n",
              "          await google.colab.kernel.invokeFunction('convertToInteractive',\n",
              "                                                    [key], {});\n",
              "        if (!dataTable) return;\n",
              "\n",
              "        const docLinkHtml = 'Like what you see? Visit the ' +\n",
              "          '<a target=\"_blank\" href=https://colab.research.google.com/notebooks/data_table.ipynb>data table notebook</a>'\n",
              "          + ' to learn more about interactive tables.';\n",
              "        element.innerHTML = '';\n",
              "        dataTable['output_type'] = 'display_data';\n",
              "        await google.colab.output.renderOutput(dataTable, element);\n",
              "        const docLink = document.createElement('div');\n",
              "        docLink.innerHTML = docLinkHtml;\n",
              "        element.appendChild(docLink);\n",
              "      }\n",
              "    </script>\n",
              "  </div>\n",
              "\n",
              "\n",
              "<div id=\"df-8e605cbb-4863-4837-b54c-f8388bb01552\">\n",
              "  <button class=\"colab-df-quickchart\" onclick=\"quickchart('df-8e605cbb-4863-4837-b54c-f8388bb01552')\"\n",
              "            title=\"Suggest charts\"\n",
              "            style=\"display:none;\">\n",
              "\n",
              "<svg xmlns=\"http://www.w3.org/2000/svg\" height=\"24px\"viewBox=\"0 0 24 24\"\n",
              "     width=\"24px\">\n",
              "    <g>\n",
              "        <path d=\"M19 3H5c-1.1 0-2 .9-2 2v14c0 1.1.9 2 2 2h14c1.1 0 2-.9 2-2V5c0-1.1-.9-2-2-2zM9 17H7v-7h2v7zm4 0h-2V7h2v10zm4 0h-2v-4h2v4z\"/>\n",
              "    </g>\n",
              "</svg>\n",
              "  </button>\n",
              "\n",
              "<style>\n",
              "  .colab-df-quickchart {\n",
              "      --bg-color: #E8F0FE;\n",
              "      --fill-color: #1967D2;\n",
              "      --hover-bg-color: #E2EBFA;\n",
              "      --hover-fill-color: #174EA6;\n",
              "      --disabled-fill-color: #AAA;\n",
              "      --disabled-bg-color: #DDD;\n",
              "  }\n",
              "\n",
              "  [theme=dark] .colab-df-quickchart {\n",
              "      --bg-color: #3B4455;\n",
              "      --fill-color: #D2E3FC;\n",
              "      --hover-bg-color: #434B5C;\n",
              "      --hover-fill-color: #FFFFFF;\n",
              "      --disabled-bg-color: #3B4455;\n",
              "      --disabled-fill-color: #666;\n",
              "  }\n",
              "\n",
              "  .colab-df-quickchart {\n",
              "    background-color: var(--bg-color);\n",
              "    border: none;\n",
              "    border-radius: 50%;\n",
              "    cursor: pointer;\n",
              "    display: none;\n",
              "    fill: var(--fill-color);\n",
              "    height: 32px;\n",
              "    padding: 0;\n",
              "    width: 32px;\n",
              "  }\n",
              "\n",
              "  .colab-df-quickchart:hover {\n",
              "    background-color: var(--hover-bg-color);\n",
              "    box-shadow: 0 1px 2px rgba(60, 64, 67, 0.3), 0 1px 3px 1px rgba(60, 64, 67, 0.15);\n",
              "    fill: var(--button-hover-fill-color);\n",
              "  }\n",
              "\n",
              "  .colab-df-quickchart-complete:disabled,\n",
              "  .colab-df-quickchart-complete:disabled:hover {\n",
              "    background-color: var(--disabled-bg-color);\n",
              "    fill: var(--disabled-fill-color);\n",
              "    box-shadow: none;\n",
              "  }\n",
              "\n",
              "  .colab-df-spinner {\n",
              "    border: 2px solid var(--fill-color);\n",
              "    border-color: transparent;\n",
              "    border-bottom-color: var(--fill-color);\n",
              "    animation:\n",
              "      spin 1s steps(1) infinite;\n",
              "  }\n",
              "\n",
              "  @keyframes spin {\n",
              "    0% {\n",
              "      border-color: transparent;\n",
              "      border-bottom-color: var(--fill-color);\n",
              "      border-left-color: var(--fill-color);\n",
              "    }\n",
              "    20% {\n",
              "      border-color: transparent;\n",
              "      border-left-color: var(--fill-color);\n",
              "      border-top-color: var(--fill-color);\n",
              "    }\n",
              "    30% {\n",
              "      border-color: transparent;\n",
              "      border-left-color: var(--fill-color);\n",
              "      border-top-color: var(--fill-color);\n",
              "      border-right-color: var(--fill-color);\n",
              "    }\n",
              "    40% {\n",
              "      border-color: transparent;\n",
              "      border-right-color: var(--fill-color);\n",
              "      border-top-color: var(--fill-color);\n",
              "    }\n",
              "    60% {\n",
              "      border-color: transparent;\n",
              "      border-right-color: var(--fill-color);\n",
              "    }\n",
              "    80% {\n",
              "      border-color: transparent;\n",
              "      border-right-color: var(--fill-color);\n",
              "      border-bottom-color: var(--fill-color);\n",
              "    }\n",
              "    90% {\n",
              "      border-color: transparent;\n",
              "      border-bottom-color: var(--fill-color);\n",
              "    }\n",
              "  }\n",
              "</style>\n",
              "\n",
              "  <script>\n",
              "    async function quickchart(key) {\n",
              "      const quickchartButtonEl =\n",
              "        document.querySelector('#' + key + ' button');\n",
              "      quickchartButtonEl.disabled = true;  // To prevent multiple clicks.\n",
              "      quickchartButtonEl.classList.add('colab-df-spinner');\n",
              "      try {\n",
              "        const charts = await google.colab.kernel.invokeFunction(\n",
              "            'suggestCharts', [key], {});\n",
              "      } catch (error) {\n",
              "        console.error('Error during call to suggestCharts:', error);\n",
              "      }\n",
              "      quickchartButtonEl.classList.remove('colab-df-spinner');\n",
              "      quickchartButtonEl.classList.add('colab-df-quickchart-complete');\n",
              "    }\n",
              "    (() => {\n",
              "      let quickchartButtonEl =\n",
              "        document.querySelector('#df-8e605cbb-4863-4837-b54c-f8388bb01552 button');\n",
              "      quickchartButtonEl.style.display =\n",
              "        google.colab.kernel.accessAllowed ? 'block' : 'none';\n",
              "    })();\n",
              "  </script>\n",
              "</div>\n",
              "    </div>\n",
              "  </div>\n"
            ]
          },
          "metadata": {},
          "execution_count": 68
        }
      ]
    },
    {
      "cell_type": "markdown",
      "source": [
        "Данные успешно загрузились"
      ],
      "metadata": {
        "id": "9kCgSLutvYwP"
      }
    },
    {
      "cell_type": "code",
      "source": [
        "print(f\"Размер обучающей выборки: {train.shape}\\nРазмер тестовой выборки: {test.shape}\")"
      ],
      "metadata": {
        "colab": {
          "base_uri": "https://localhost:8080/"
        },
        "id": "AuPw5deowr0A",
        "outputId": "ed5325ae-6672-45cf-bed1-352240fe42c8"
      },
      "execution_count": null,
      "outputs": [
        {
          "output_type": "stream",
          "name": "stdout",
          "text": [
            "Размер обучающей выборки: (253561, 22)\n",
            "Размер тестовой выборки: (82797, 21)\n"
          ]
        }
      ]
    },
    {
      "cell_type": "code",
      "source": [
        "# Уберём в отдельную переменную целевое значение\n",
        "y=train['target']\n",
        "train.drop(columns=['target'], inplace=True)\n",
        "y"
      ],
      "metadata": {
        "colab": {
          "base_uri": "https://localhost:8080/"
        },
        "id": "VhOzwjqaxg04",
        "outputId": "8e53bc18-b8e5-4527-973d-0840397b6938"
      },
      "execution_count": null,
      "outputs": [
        {
          "output_type": "execute_result",
          "data": {
            "text/plain": [
              "0         0\n",
              "1         0\n",
              "2         0\n",
              "3         0\n",
              "4         0\n",
              "         ..\n",
              "253556    0\n",
              "253557    0\n",
              "253558    0\n",
              "253559    0\n",
              "253560    0\n",
              "Name: target, Length: 253561, dtype: int64"
            ]
          },
          "metadata": {},
          "execution_count": 70
        }
      ]
    },
    {
      "cell_type": "code",
      "source": [
        "# Посмотрим на типы данных\n",
        "train.info()"
      ],
      "metadata": {
        "colab": {
          "base_uri": "https://localhost:8080/"
        },
        "id": "kiEakbtsv9tA",
        "outputId": "c0a7838e-d893-4e64-b192-6fbea8fe7be7"
      },
      "execution_count": null,
      "outputs": [
        {
          "output_type": "stream",
          "name": "stdout",
          "text": [
            "<class 'pandas.core.frame.DataFrame'>\n",
            "RangeIndex: 253561 entries, 0 to 253560\n",
            "Data columns (total 21 columns):\n",
            " #   Column      Non-Null Count   Dtype  \n",
            "---  ------      --------------   -----  \n",
            " 0   session_id  253561 non-null  int64  \n",
            " 1   site1       253561 non-null  int64  \n",
            " 2   time1       253561 non-null  object \n",
            " 3   site2       250098 non-null  float64\n",
            " 4   time2       250098 non-null  object \n",
            " 5   site3       246919 non-null  float64\n",
            " 6   time3       246919 non-null  object \n",
            " 7   site4       244321 non-null  float64\n",
            " 8   time4       244321 non-null  object \n",
            " 9   site5       241829 non-null  float64\n",
            " 10  time5       241829 non-null  object \n",
            " 11  site6       239495 non-null  float64\n",
            " 12  time6       239495 non-null  object \n",
            " 13  site7       237297 non-null  float64\n",
            " 14  time7       237297 non-null  object \n",
            " 15  site8       235224 non-null  float64\n",
            " 16  time8       235224 non-null  object \n",
            " 17  site9       233084 non-null  float64\n",
            " 18  time9       233084 non-null  object \n",
            " 19  site10      231052 non-null  float64\n",
            " 20  time10      231052 non-null  object \n",
            "dtypes: float64(9), int64(2), object(10)\n",
            "memory usage: 40.6+ MB\n"
          ]
        }
      ]
    },
    {
      "cell_type": "code",
      "source": [
        "# Разабьём в 2 группы данные по сайтам и времени\n",
        "sites_df_train = train[[f'site{i}' for i in range(1, 11)]]\n",
        "times_df_train = train[[f'time{i}' for i in range(1, 11)]]\n",
        "sites_df_test = test[[f'site{i}' for i in range(1, 11)]]\n",
        "times_df_test = test[[f'time{i}' for i in range(1, 11)]]"
      ],
      "metadata": {
        "id": "d-auWvt1wJwC"
      },
      "execution_count": null,
      "outputs": []
    },
    {
      "cell_type": "code",
      "source": [
        "# Сначала обработаем данные по сайтам\n",
        "sites_df_train.head(5)"
      ],
      "metadata": {
        "colab": {
          "base_uri": "https://localhost:8080/",
          "height": 226
        },
        "id": "MNPTXJf4zToN",
        "outputId": "937cdb51-fd48-46ae-d762-5b958a66a5ce"
      },
      "execution_count": null,
      "outputs": [
        {
          "output_type": "execute_result",
          "data": {
            "text/plain": [
              "   site1  site2    site3    site4  site5   site6    site7    site8    site9  \\\n",
              "0    718    NaN      NaN      NaN    NaN     NaN      NaN      NaN      NaN   \n",
              "1    890  941.0   3847.0    941.0  942.0  3846.0   3847.0   3846.0   1516.0   \n",
              "2  14769   39.0  14768.0  14769.0   37.0    39.0  14768.0  14768.0  14768.0   \n",
              "3    782  782.0    782.0    782.0  782.0   782.0    782.0    782.0    782.0   \n",
              "4     22  177.0    175.0    178.0  177.0   178.0    175.0    177.0    177.0   \n",
              "\n",
              "    site10  \n",
              "0      NaN  \n",
              "1   1518.0  \n",
              "2  14768.0  \n",
              "3    782.0  \n",
              "4    178.0  "
            ],
            "text/html": [
              "\n",
              "  <div id=\"df-6ff2ea2a-9b54-4df6-834b-706ad1730746\" class=\"colab-df-container\">\n",
              "    <div>\n",
              "<style scoped>\n",
              "    .dataframe tbody tr th:only-of-type {\n",
              "        vertical-align: middle;\n",
              "    }\n",
              "\n",
              "    .dataframe tbody tr th {\n",
              "        vertical-align: top;\n",
              "    }\n",
              "\n",
              "    .dataframe thead th {\n",
              "        text-align: right;\n",
              "    }\n",
              "</style>\n",
              "<table border=\"1\" class=\"dataframe\">\n",
              "  <thead>\n",
              "    <tr style=\"text-align: right;\">\n",
              "      <th></th>\n",
              "      <th>site1</th>\n",
              "      <th>site2</th>\n",
              "      <th>site3</th>\n",
              "      <th>site4</th>\n",
              "      <th>site5</th>\n",
              "      <th>site6</th>\n",
              "      <th>site7</th>\n",
              "      <th>site8</th>\n",
              "      <th>site9</th>\n",
              "      <th>site10</th>\n",
              "    </tr>\n",
              "  </thead>\n",
              "  <tbody>\n",
              "    <tr>\n",
              "      <th>0</th>\n",
              "      <td>718</td>\n",
              "      <td>NaN</td>\n",
              "      <td>NaN</td>\n",
              "      <td>NaN</td>\n",
              "      <td>NaN</td>\n",
              "      <td>NaN</td>\n",
              "      <td>NaN</td>\n",
              "      <td>NaN</td>\n",
              "      <td>NaN</td>\n",
              "      <td>NaN</td>\n",
              "    </tr>\n",
              "    <tr>\n",
              "      <th>1</th>\n",
              "      <td>890</td>\n",
              "      <td>941.0</td>\n",
              "      <td>3847.0</td>\n",
              "      <td>941.0</td>\n",
              "      <td>942.0</td>\n",
              "      <td>3846.0</td>\n",
              "      <td>3847.0</td>\n",
              "      <td>3846.0</td>\n",
              "      <td>1516.0</td>\n",
              "      <td>1518.0</td>\n",
              "    </tr>\n",
              "    <tr>\n",
              "      <th>2</th>\n",
              "      <td>14769</td>\n",
              "      <td>39.0</td>\n",
              "      <td>14768.0</td>\n",
              "      <td>14769.0</td>\n",
              "      <td>37.0</td>\n",
              "      <td>39.0</td>\n",
              "      <td>14768.0</td>\n",
              "      <td>14768.0</td>\n",
              "      <td>14768.0</td>\n",
              "      <td>14768.0</td>\n",
              "    </tr>\n",
              "    <tr>\n",
              "      <th>3</th>\n",
              "      <td>782</td>\n",
              "      <td>782.0</td>\n",
              "      <td>782.0</td>\n",
              "      <td>782.0</td>\n",
              "      <td>782.0</td>\n",
              "      <td>782.0</td>\n",
              "      <td>782.0</td>\n",
              "      <td>782.0</td>\n",
              "      <td>782.0</td>\n",
              "      <td>782.0</td>\n",
              "    </tr>\n",
              "    <tr>\n",
              "      <th>4</th>\n",
              "      <td>22</td>\n",
              "      <td>177.0</td>\n",
              "      <td>175.0</td>\n",
              "      <td>178.0</td>\n",
              "      <td>177.0</td>\n",
              "      <td>178.0</td>\n",
              "      <td>175.0</td>\n",
              "      <td>177.0</td>\n",
              "      <td>177.0</td>\n",
              "      <td>178.0</td>\n",
              "    </tr>\n",
              "  </tbody>\n",
              "</table>\n",
              "</div>\n",
              "    <div class=\"colab-df-buttons\">\n",
              "\n",
              "  <div class=\"colab-df-container\">\n",
              "    <button class=\"colab-df-convert\" onclick=\"convertToInteractive('df-6ff2ea2a-9b54-4df6-834b-706ad1730746')\"\n",
              "            title=\"Convert this dataframe to an interactive table.\"\n",
              "            style=\"display:none;\">\n",
              "\n",
              "  <svg xmlns=\"http://www.w3.org/2000/svg\" height=\"24px\" viewBox=\"0 -960 960 960\">\n",
              "    <path d=\"M120-120v-720h720v720H120Zm60-500h600v-160H180v160Zm220 220h160v-160H400v160Zm0 220h160v-160H400v160ZM180-400h160v-160H180v160Zm440 0h160v-160H620v160ZM180-180h160v-160H180v160Zm440 0h160v-160H620v160Z\"/>\n",
              "  </svg>\n",
              "    </button>\n",
              "\n",
              "  <style>\n",
              "    .colab-df-container {\n",
              "      display:flex;\n",
              "      gap: 12px;\n",
              "    }\n",
              "\n",
              "    .colab-df-convert {\n",
              "      background-color: #E8F0FE;\n",
              "      border: none;\n",
              "      border-radius: 50%;\n",
              "      cursor: pointer;\n",
              "      display: none;\n",
              "      fill: #1967D2;\n",
              "      height: 32px;\n",
              "      padding: 0 0 0 0;\n",
              "      width: 32px;\n",
              "    }\n",
              "\n",
              "    .colab-df-convert:hover {\n",
              "      background-color: #E2EBFA;\n",
              "      box-shadow: 0px 1px 2px rgba(60, 64, 67, 0.3), 0px 1px 3px 1px rgba(60, 64, 67, 0.15);\n",
              "      fill: #174EA6;\n",
              "    }\n",
              "\n",
              "    .colab-df-buttons div {\n",
              "      margin-bottom: 4px;\n",
              "    }\n",
              "\n",
              "    [theme=dark] .colab-df-convert {\n",
              "      background-color: #3B4455;\n",
              "      fill: #D2E3FC;\n",
              "    }\n",
              "\n",
              "    [theme=dark] .colab-df-convert:hover {\n",
              "      background-color: #434B5C;\n",
              "      box-shadow: 0px 1px 3px 1px rgba(0, 0, 0, 0.15);\n",
              "      filter: drop-shadow(0px 1px 2px rgba(0, 0, 0, 0.3));\n",
              "      fill: #FFFFFF;\n",
              "    }\n",
              "  </style>\n",
              "\n",
              "    <script>\n",
              "      const buttonEl =\n",
              "        document.querySelector('#df-6ff2ea2a-9b54-4df6-834b-706ad1730746 button.colab-df-convert');\n",
              "      buttonEl.style.display =\n",
              "        google.colab.kernel.accessAllowed ? 'block' : 'none';\n",
              "\n",
              "      async function convertToInteractive(key) {\n",
              "        const element = document.querySelector('#df-6ff2ea2a-9b54-4df6-834b-706ad1730746');\n",
              "        const dataTable =\n",
              "          await google.colab.kernel.invokeFunction('convertToInteractive',\n",
              "                                                    [key], {});\n",
              "        if (!dataTable) return;\n",
              "\n",
              "        const docLinkHtml = 'Like what you see? Visit the ' +\n",
              "          '<a target=\"_blank\" href=https://colab.research.google.com/notebooks/data_table.ipynb>data table notebook</a>'\n",
              "          + ' to learn more about interactive tables.';\n",
              "        element.innerHTML = '';\n",
              "        dataTable['output_type'] = 'display_data';\n",
              "        await google.colab.output.renderOutput(dataTable, element);\n",
              "        const docLink = document.createElement('div');\n",
              "        docLink.innerHTML = docLinkHtml;\n",
              "        element.appendChild(docLink);\n",
              "      }\n",
              "    </script>\n",
              "  </div>\n",
              "\n",
              "\n",
              "<div id=\"df-35adf2c7-cd33-4b9c-845f-9366b1413141\">\n",
              "  <button class=\"colab-df-quickchart\" onclick=\"quickchart('df-35adf2c7-cd33-4b9c-845f-9366b1413141')\"\n",
              "            title=\"Suggest charts\"\n",
              "            style=\"display:none;\">\n",
              "\n",
              "<svg xmlns=\"http://www.w3.org/2000/svg\" height=\"24px\"viewBox=\"0 0 24 24\"\n",
              "     width=\"24px\">\n",
              "    <g>\n",
              "        <path d=\"M19 3H5c-1.1 0-2 .9-2 2v14c0 1.1.9 2 2 2h14c1.1 0 2-.9 2-2V5c0-1.1-.9-2-2-2zM9 17H7v-7h2v7zm4 0h-2V7h2v10zm4 0h-2v-4h2v4z\"/>\n",
              "    </g>\n",
              "</svg>\n",
              "  </button>\n",
              "\n",
              "<style>\n",
              "  .colab-df-quickchart {\n",
              "      --bg-color: #E8F0FE;\n",
              "      --fill-color: #1967D2;\n",
              "      --hover-bg-color: #E2EBFA;\n",
              "      --hover-fill-color: #174EA6;\n",
              "      --disabled-fill-color: #AAA;\n",
              "      --disabled-bg-color: #DDD;\n",
              "  }\n",
              "\n",
              "  [theme=dark] .colab-df-quickchart {\n",
              "      --bg-color: #3B4455;\n",
              "      --fill-color: #D2E3FC;\n",
              "      --hover-bg-color: #434B5C;\n",
              "      --hover-fill-color: #FFFFFF;\n",
              "      --disabled-bg-color: #3B4455;\n",
              "      --disabled-fill-color: #666;\n",
              "  }\n",
              "\n",
              "  .colab-df-quickchart {\n",
              "    background-color: var(--bg-color);\n",
              "    border: none;\n",
              "    border-radius: 50%;\n",
              "    cursor: pointer;\n",
              "    display: none;\n",
              "    fill: var(--fill-color);\n",
              "    height: 32px;\n",
              "    padding: 0;\n",
              "    width: 32px;\n",
              "  }\n",
              "\n",
              "  .colab-df-quickchart:hover {\n",
              "    background-color: var(--hover-bg-color);\n",
              "    box-shadow: 0 1px 2px rgba(60, 64, 67, 0.3), 0 1px 3px 1px rgba(60, 64, 67, 0.15);\n",
              "    fill: var(--button-hover-fill-color);\n",
              "  }\n",
              "\n",
              "  .colab-df-quickchart-complete:disabled,\n",
              "  .colab-df-quickchart-complete:disabled:hover {\n",
              "    background-color: var(--disabled-bg-color);\n",
              "    fill: var(--disabled-fill-color);\n",
              "    box-shadow: none;\n",
              "  }\n",
              "\n",
              "  .colab-df-spinner {\n",
              "    border: 2px solid var(--fill-color);\n",
              "    border-color: transparent;\n",
              "    border-bottom-color: var(--fill-color);\n",
              "    animation:\n",
              "      spin 1s steps(1) infinite;\n",
              "  }\n",
              "\n",
              "  @keyframes spin {\n",
              "    0% {\n",
              "      border-color: transparent;\n",
              "      border-bottom-color: var(--fill-color);\n",
              "      border-left-color: var(--fill-color);\n",
              "    }\n",
              "    20% {\n",
              "      border-color: transparent;\n",
              "      border-left-color: var(--fill-color);\n",
              "      border-top-color: var(--fill-color);\n",
              "    }\n",
              "    30% {\n",
              "      border-color: transparent;\n",
              "      border-left-color: var(--fill-color);\n",
              "      border-top-color: var(--fill-color);\n",
              "      border-right-color: var(--fill-color);\n",
              "    }\n",
              "    40% {\n",
              "      border-color: transparent;\n",
              "      border-right-color: var(--fill-color);\n",
              "      border-top-color: var(--fill-color);\n",
              "    }\n",
              "    60% {\n",
              "      border-color: transparent;\n",
              "      border-right-color: var(--fill-color);\n",
              "    }\n",
              "    80% {\n",
              "      border-color: transparent;\n",
              "      border-right-color: var(--fill-color);\n",
              "      border-bottom-color: var(--fill-color);\n",
              "    }\n",
              "    90% {\n",
              "      border-color: transparent;\n",
              "      border-bottom-color: var(--fill-color);\n",
              "    }\n",
              "  }\n",
              "</style>\n",
              "\n",
              "  <script>\n",
              "    async function quickchart(key) {\n",
              "      const quickchartButtonEl =\n",
              "        document.querySelector('#' + key + ' button');\n",
              "      quickchartButtonEl.disabled = true;  // To prevent multiple clicks.\n",
              "      quickchartButtonEl.classList.add('colab-df-spinner');\n",
              "      try {\n",
              "        const charts = await google.colab.kernel.invokeFunction(\n",
              "            'suggestCharts', [key], {});\n",
              "      } catch (error) {\n",
              "        console.error('Error during call to suggestCharts:', error);\n",
              "      }\n",
              "      quickchartButtonEl.classList.remove('colab-df-spinner');\n",
              "      quickchartButtonEl.classList.add('colab-df-quickchart-complete');\n",
              "    }\n",
              "    (() => {\n",
              "      let quickchartButtonEl =\n",
              "        document.querySelector('#df-35adf2c7-cd33-4b9c-845f-9366b1413141 button');\n",
              "      quickchartButtonEl.style.display =\n",
              "        google.colab.kernel.accessAllowed ? 'block' : 'none';\n",
              "    })();\n",
              "  </script>\n",
              "</div>\n",
              "    </div>\n",
              "  </div>\n"
            ]
          },
          "metadata": {},
          "execution_count": 73
        }
      ]
    },
    {
      "cell_type": "code",
      "source": [
        "# обработаем пропуски в sites_df\n",
        "sites_df_train.fillna(0, inplace=True)\n",
        "sites_df_test.fillna(0, inplace=True)"
      ],
      "metadata": {
        "id": "Fz_IShfe9BVI"
      },
      "execution_count": null,
      "outputs": []
    },
    {
      "cell_type": "code",
      "source": [
        "sites_df_train.isnull().sum()/len(sites_df_train) * 100"
      ],
      "metadata": {
        "colab": {
          "base_uri": "https://localhost:8080/"
        },
        "id": "6eAcAan7zjPA",
        "outputId": "1501decf-5f73-4ea5-d035-f30fea6c2bfd"
      },
      "execution_count": null,
      "outputs": [
        {
          "output_type": "execute_result",
          "data": {
            "text/plain": [
              "site1     0.0\n",
              "site2     0.0\n",
              "site3     0.0\n",
              "site4     0.0\n",
              "site5     0.0\n",
              "site6     0.0\n",
              "site7     0.0\n",
              "site8     0.0\n",
              "site9     0.0\n",
              "site10    0.0\n",
              "dtype: float64"
            ]
          },
          "metadata": {},
          "execution_count": 75
        }
      ]
    },
    {
      "cell_type": "code",
      "source": [
        "sites_df_test.isnull().sum()/len(sites_df_test) * 100"
      ],
      "metadata": {
        "colab": {
          "base_uri": "https://localhost:8080/"
        },
        "id": "vleKDDun01Jq",
        "outputId": "08b8ee65-3937-4285-e0d7-2b0bcaa83200"
      },
      "execution_count": null,
      "outputs": [
        {
          "output_type": "execute_result",
          "data": {
            "text/plain": [
              "site1     0.0\n",
              "site2     0.0\n",
              "site3     0.0\n",
              "site4     0.0\n",
              "site5     0.0\n",
              "site6     0.0\n",
              "site7     0.0\n",
              "site8     0.0\n",
              "site9     0.0\n",
              "site10    0.0\n",
              "dtype: float64"
            ]
          },
          "metadata": {},
          "execution_count": 76
        }
      ]
    },
    {
      "cell_type": "code",
      "source": [
        "# Приведём все данные к целочисленному виду\n",
        "for col in sites_df_train.columns:\n",
        "    sites_df_train[col] = sites_df_train[col].astype(np.int16)\n",
        "sites_df_train.info()"
      ],
      "metadata": {
        "colab": {
          "base_uri": "https://localhost:8080/"
        },
        "id": "5Nl964mAzshp",
        "outputId": "d971e44d-6461-46b9-9483-a81d5579e28b"
      },
      "execution_count": null,
      "outputs": [
        {
          "output_type": "stream",
          "name": "stdout",
          "text": [
            "<class 'pandas.core.frame.DataFrame'>\n",
            "RangeIndex: 253561 entries, 0 to 253560\n",
            "Data columns (total 10 columns):\n",
            " #   Column  Non-Null Count   Dtype\n",
            "---  ------  --------------   -----\n",
            " 0   site1   253561 non-null  int16\n",
            " 1   site2   253561 non-null  int16\n",
            " 2   site3   253561 non-null  int16\n",
            " 3   site4   253561 non-null  int16\n",
            " 4   site5   253561 non-null  int16\n",
            " 5   site6   253561 non-null  int16\n",
            " 6   site7   253561 non-null  int16\n",
            " 7   site8   253561 non-null  int16\n",
            " 8   site9   253561 non-null  int16\n",
            " 9   site10  253561 non-null  int16\n",
            "dtypes: int16(10)\n",
            "memory usage: 4.8 MB\n"
          ]
        }
      ]
    },
    {
      "cell_type": "code",
      "source": [
        "# Теперь обработаем данные о времени и приведём их к типу датавремя\n",
        "for col in sites_df_test.columns:\n",
        "    sites_df_test[col] = sites_df_test[col].astype(np.int16)\n",
        "sites_df_test.info()"
      ],
      "metadata": {
        "colab": {
          "base_uri": "https://localhost:8080/"
        },
        "id": "U7zjnbQ50XUJ",
        "outputId": "a19f72cd-252d-4734-a16a-3926cea77d14"
      },
      "execution_count": null,
      "outputs": [
        {
          "output_type": "stream",
          "name": "stdout",
          "text": [
            "<class 'pandas.core.frame.DataFrame'>\n",
            "RangeIndex: 82797 entries, 0 to 82796\n",
            "Data columns (total 10 columns):\n",
            " #   Column  Non-Null Count  Dtype\n",
            "---  ------  --------------  -----\n",
            " 0   site1   82797 non-null  int16\n",
            " 1   site2   82797 non-null  int16\n",
            " 2   site3   82797 non-null  int16\n",
            " 3   site4   82797 non-null  int16\n",
            " 4   site5   82797 non-null  int16\n",
            " 5   site6   82797 non-null  int16\n",
            " 6   site7   82797 non-null  int16\n",
            " 7   site8   82797 non-null  int16\n",
            " 8   site9   82797 non-null  int16\n",
            " 9   site10  82797 non-null  int16\n",
            "dtypes: int16(10)\n",
            "memory usage: 1.6 MB\n"
          ]
        }
      ]
    },
    {
      "cell_type": "code",
      "source": [
        "# приводим атрибуты времени посещения сайтов к типу датавремя\n",
        "for col in times_df_test.columns:\n",
        "    times_df_test[col] = pd.to_datetime(times_df_test[col])\n",
        "times_df_test.info()"
      ],
      "metadata": {
        "id": "OfDd0twU1s90",
        "colab": {
          "base_uri": "https://localhost:8080/"
        },
        "outputId": "baccdf62-1443-4261-dbd3-823d084aaee4"
      },
      "execution_count": null,
      "outputs": [
        {
          "output_type": "stream",
          "name": "stdout",
          "text": [
            "<class 'pandas.core.frame.DataFrame'>\n",
            "RangeIndex: 82797 entries, 0 to 82796\n",
            "Data columns (total 10 columns):\n",
            " #   Column  Non-Null Count  Dtype         \n",
            "---  ------  --------------  -----         \n",
            " 0   time1   82797 non-null  datetime64[ns]\n",
            " 1   time2   81308 non-null  datetime64[ns]\n",
            " 2   time3   80075 non-null  datetime64[ns]\n",
            " 3   time4   79182 non-null  datetime64[ns]\n",
            " 4   time5   78341 non-null  datetime64[ns]\n",
            " 5   time6   77566 non-null  datetime64[ns]\n",
            " 6   time7   76840 non-null  datetime64[ns]\n",
            " 7   time8   76151 non-null  datetime64[ns]\n",
            " 8   time9   75484 non-null  datetime64[ns]\n",
            " 9   time10  74806 non-null  datetime64[ns]\n",
            "dtypes: datetime64[ns](10)\n",
            "memory usage: 6.3 MB\n"
          ]
        }
      ]
    },
    {
      "cell_type": "code",
      "source": [
        "for col in times_df_train.columns:\n",
        "    times_df_train[col] = pd.to_datetime(times_df_train[col])\n",
        "times_df_train.info()"
      ],
      "metadata": {
        "colab": {
          "base_uri": "https://localhost:8080/"
        },
        "id": "p05jxmzz9_Vz",
        "outputId": "0b09f7a4-379b-4ff5-fb8e-c11f7fb2fd13"
      },
      "execution_count": null,
      "outputs": [
        {
          "output_type": "stream",
          "name": "stdout",
          "text": [
            "<class 'pandas.core.frame.DataFrame'>\n",
            "RangeIndex: 253561 entries, 0 to 253560\n",
            "Data columns (total 10 columns):\n",
            " #   Column  Non-Null Count   Dtype         \n",
            "---  ------  --------------   -----         \n",
            " 0   time1   253561 non-null  datetime64[ns]\n",
            " 1   time2   250098 non-null  datetime64[ns]\n",
            " 2   time3   246919 non-null  datetime64[ns]\n",
            " 3   time4   244321 non-null  datetime64[ns]\n",
            " 4   time5   241829 non-null  datetime64[ns]\n",
            " 5   time6   239495 non-null  datetime64[ns]\n",
            " 6   time7   237297 non-null  datetime64[ns]\n",
            " 7   time8   235224 non-null  datetime64[ns]\n",
            " 8   time9   233084 non-null  datetime64[ns]\n",
            " 9   time10  231052 non-null  datetime64[ns]\n",
            "dtypes: datetime64[ns](10)\n",
            "memory usage: 19.3 MB\n"
          ]
        }
      ]
    },
    {
      "cell_type": "code",
      "source": [
        "times_df_train.head(5)"
      ],
      "metadata": {
        "colab": {
          "base_uri": "https://localhost:8080/",
          "height": 399
        },
        "id": "Qk3Tkh8y14Ua",
        "outputId": "92d7a496-6bcb-4698-e18b-3fa7e2ec0b5c"
      },
      "execution_count": null,
      "outputs": [
        {
          "output_type": "execute_result",
          "data": {
            "text/plain": [
              "                time1               time2               time3  \\\n",
              "0 2014-02-20 10:02:45                 NaT                 NaT   \n",
              "1 2014-02-22 11:19:50 2014-02-22 11:19:50 2014-02-22 11:19:51   \n",
              "2 2013-12-16 16:40:17 2013-12-16 16:40:18 2013-12-16 16:40:19   \n",
              "3 2014-03-28 10:52:12 2014-03-28 10:52:42 2014-03-28 10:53:12   \n",
              "4 2014-02-28 10:53:05 2014-02-28 10:55:22 2014-02-28 10:55:22   \n",
              "\n",
              "                time4               time5               time6  \\\n",
              "0                 NaT                 NaT                 NaT   \n",
              "1 2014-02-22 11:19:51 2014-02-22 11:19:51 2014-02-22 11:19:51   \n",
              "2 2013-12-16 16:40:19 2013-12-16 16:40:19 2013-12-16 16:40:19   \n",
              "3 2014-03-28 10:53:42 2014-03-28 10:54:12 2014-03-28 10:54:42   \n",
              "4 2014-02-28 10:55:23 2014-02-28 10:55:23 2014-02-28 10:55:59   \n",
              "\n",
              "                time7               time8               time9  \\\n",
              "0                 NaT                 NaT                 NaT   \n",
              "1 2014-02-22 11:19:52 2014-02-22 11:19:52 2014-02-22 11:20:15   \n",
              "2 2013-12-16 16:40:20 2013-12-16 16:40:21 2013-12-16 16:40:22   \n",
              "3 2014-03-28 10:55:12 2014-03-28 10:55:42 2014-03-28 10:56:12   \n",
              "4 2014-02-28 10:55:59 2014-02-28 10:55:59 2014-02-28 10:57:06   \n",
              "\n",
              "               time10  \n",
              "0                 NaT  \n",
              "1 2014-02-22 11:20:16  \n",
              "2 2013-12-16 16:40:24  \n",
              "3 2014-03-28 10:56:42  \n",
              "4 2014-02-28 10:57:11  "
            ],
            "text/html": [
              "\n",
              "  <div id=\"df-82ab2ed9-8ca2-438c-a14f-8a931d42e180\" class=\"colab-df-container\">\n",
              "    <div>\n",
              "<style scoped>\n",
              "    .dataframe tbody tr th:only-of-type {\n",
              "        vertical-align: middle;\n",
              "    }\n",
              "\n",
              "    .dataframe tbody tr th {\n",
              "        vertical-align: top;\n",
              "    }\n",
              "\n",
              "    .dataframe thead th {\n",
              "        text-align: right;\n",
              "    }\n",
              "</style>\n",
              "<table border=\"1\" class=\"dataframe\">\n",
              "  <thead>\n",
              "    <tr style=\"text-align: right;\">\n",
              "      <th></th>\n",
              "      <th>time1</th>\n",
              "      <th>time2</th>\n",
              "      <th>time3</th>\n",
              "      <th>time4</th>\n",
              "      <th>time5</th>\n",
              "      <th>time6</th>\n",
              "      <th>time7</th>\n",
              "      <th>time8</th>\n",
              "      <th>time9</th>\n",
              "      <th>time10</th>\n",
              "    </tr>\n",
              "  </thead>\n",
              "  <tbody>\n",
              "    <tr>\n",
              "      <th>0</th>\n",
              "      <td>2014-02-20 10:02:45</td>\n",
              "      <td>NaT</td>\n",
              "      <td>NaT</td>\n",
              "      <td>NaT</td>\n",
              "      <td>NaT</td>\n",
              "      <td>NaT</td>\n",
              "      <td>NaT</td>\n",
              "      <td>NaT</td>\n",
              "      <td>NaT</td>\n",
              "      <td>NaT</td>\n",
              "    </tr>\n",
              "    <tr>\n",
              "      <th>1</th>\n",
              "      <td>2014-02-22 11:19:50</td>\n",
              "      <td>2014-02-22 11:19:50</td>\n",
              "      <td>2014-02-22 11:19:51</td>\n",
              "      <td>2014-02-22 11:19:51</td>\n",
              "      <td>2014-02-22 11:19:51</td>\n",
              "      <td>2014-02-22 11:19:51</td>\n",
              "      <td>2014-02-22 11:19:52</td>\n",
              "      <td>2014-02-22 11:19:52</td>\n",
              "      <td>2014-02-22 11:20:15</td>\n",
              "      <td>2014-02-22 11:20:16</td>\n",
              "    </tr>\n",
              "    <tr>\n",
              "      <th>2</th>\n",
              "      <td>2013-12-16 16:40:17</td>\n",
              "      <td>2013-12-16 16:40:18</td>\n",
              "      <td>2013-12-16 16:40:19</td>\n",
              "      <td>2013-12-16 16:40:19</td>\n",
              "      <td>2013-12-16 16:40:19</td>\n",
              "      <td>2013-12-16 16:40:19</td>\n",
              "      <td>2013-12-16 16:40:20</td>\n",
              "      <td>2013-12-16 16:40:21</td>\n",
              "      <td>2013-12-16 16:40:22</td>\n",
              "      <td>2013-12-16 16:40:24</td>\n",
              "    </tr>\n",
              "    <tr>\n",
              "      <th>3</th>\n",
              "      <td>2014-03-28 10:52:12</td>\n",
              "      <td>2014-03-28 10:52:42</td>\n",
              "      <td>2014-03-28 10:53:12</td>\n",
              "      <td>2014-03-28 10:53:42</td>\n",
              "      <td>2014-03-28 10:54:12</td>\n",
              "      <td>2014-03-28 10:54:42</td>\n",
              "      <td>2014-03-28 10:55:12</td>\n",
              "      <td>2014-03-28 10:55:42</td>\n",
              "      <td>2014-03-28 10:56:12</td>\n",
              "      <td>2014-03-28 10:56:42</td>\n",
              "    </tr>\n",
              "    <tr>\n",
              "      <th>4</th>\n",
              "      <td>2014-02-28 10:53:05</td>\n",
              "      <td>2014-02-28 10:55:22</td>\n",
              "      <td>2014-02-28 10:55:22</td>\n",
              "      <td>2014-02-28 10:55:23</td>\n",
              "      <td>2014-02-28 10:55:23</td>\n",
              "      <td>2014-02-28 10:55:59</td>\n",
              "      <td>2014-02-28 10:55:59</td>\n",
              "      <td>2014-02-28 10:55:59</td>\n",
              "      <td>2014-02-28 10:57:06</td>\n",
              "      <td>2014-02-28 10:57:11</td>\n",
              "    </tr>\n",
              "  </tbody>\n",
              "</table>\n",
              "</div>\n",
              "    <div class=\"colab-df-buttons\">\n",
              "\n",
              "  <div class=\"colab-df-container\">\n",
              "    <button class=\"colab-df-convert\" onclick=\"convertToInteractive('df-82ab2ed9-8ca2-438c-a14f-8a931d42e180')\"\n",
              "            title=\"Convert this dataframe to an interactive table.\"\n",
              "            style=\"display:none;\">\n",
              "\n",
              "  <svg xmlns=\"http://www.w3.org/2000/svg\" height=\"24px\" viewBox=\"0 -960 960 960\">\n",
              "    <path d=\"M120-120v-720h720v720H120Zm60-500h600v-160H180v160Zm220 220h160v-160H400v160Zm0 220h160v-160H400v160ZM180-400h160v-160H180v160Zm440 0h160v-160H620v160ZM180-180h160v-160H180v160Zm440 0h160v-160H620v160Z\"/>\n",
              "  </svg>\n",
              "    </button>\n",
              "\n",
              "  <style>\n",
              "    .colab-df-container {\n",
              "      display:flex;\n",
              "      gap: 12px;\n",
              "    }\n",
              "\n",
              "    .colab-df-convert {\n",
              "      background-color: #E8F0FE;\n",
              "      border: none;\n",
              "      border-radius: 50%;\n",
              "      cursor: pointer;\n",
              "      display: none;\n",
              "      fill: #1967D2;\n",
              "      height: 32px;\n",
              "      padding: 0 0 0 0;\n",
              "      width: 32px;\n",
              "    }\n",
              "\n",
              "    .colab-df-convert:hover {\n",
              "      background-color: #E2EBFA;\n",
              "      box-shadow: 0px 1px 2px rgba(60, 64, 67, 0.3), 0px 1px 3px 1px rgba(60, 64, 67, 0.15);\n",
              "      fill: #174EA6;\n",
              "    }\n",
              "\n",
              "    .colab-df-buttons div {\n",
              "      margin-bottom: 4px;\n",
              "    }\n",
              "\n",
              "    [theme=dark] .colab-df-convert {\n",
              "      background-color: #3B4455;\n",
              "      fill: #D2E3FC;\n",
              "    }\n",
              "\n",
              "    [theme=dark] .colab-df-convert:hover {\n",
              "      background-color: #434B5C;\n",
              "      box-shadow: 0px 1px 3px 1px rgba(0, 0, 0, 0.15);\n",
              "      filter: drop-shadow(0px 1px 2px rgba(0, 0, 0, 0.3));\n",
              "      fill: #FFFFFF;\n",
              "    }\n",
              "  </style>\n",
              "\n",
              "    <script>\n",
              "      const buttonEl =\n",
              "        document.querySelector('#df-82ab2ed9-8ca2-438c-a14f-8a931d42e180 button.colab-df-convert');\n",
              "      buttonEl.style.display =\n",
              "        google.colab.kernel.accessAllowed ? 'block' : 'none';\n",
              "\n",
              "      async function convertToInteractive(key) {\n",
              "        const element = document.querySelector('#df-82ab2ed9-8ca2-438c-a14f-8a931d42e180');\n",
              "        const dataTable =\n",
              "          await google.colab.kernel.invokeFunction('convertToInteractive',\n",
              "                                                    [key], {});\n",
              "        if (!dataTable) return;\n",
              "\n",
              "        const docLinkHtml = 'Like what you see? Visit the ' +\n",
              "          '<a target=\"_blank\" href=https://colab.research.google.com/notebooks/data_table.ipynb>data table notebook</a>'\n",
              "          + ' to learn more about interactive tables.';\n",
              "        element.innerHTML = '';\n",
              "        dataTable['output_type'] = 'display_data';\n",
              "        await google.colab.output.renderOutput(dataTable, element);\n",
              "        const docLink = document.createElement('div');\n",
              "        docLink.innerHTML = docLinkHtml;\n",
              "        element.appendChild(docLink);\n",
              "      }\n",
              "    </script>\n",
              "  </div>\n",
              "\n",
              "\n",
              "<div id=\"df-af9cb1c9-af91-4e0e-ae0d-9d9d57e6d4ab\">\n",
              "  <button class=\"colab-df-quickchart\" onclick=\"quickchart('df-af9cb1c9-af91-4e0e-ae0d-9d9d57e6d4ab')\"\n",
              "            title=\"Suggest charts\"\n",
              "            style=\"display:none;\">\n",
              "\n",
              "<svg xmlns=\"http://www.w3.org/2000/svg\" height=\"24px\"viewBox=\"0 0 24 24\"\n",
              "     width=\"24px\">\n",
              "    <g>\n",
              "        <path d=\"M19 3H5c-1.1 0-2 .9-2 2v14c0 1.1.9 2 2 2h14c1.1 0 2-.9 2-2V5c0-1.1-.9-2-2-2zM9 17H7v-7h2v7zm4 0h-2V7h2v10zm4 0h-2v-4h2v4z\"/>\n",
              "    </g>\n",
              "</svg>\n",
              "  </button>\n",
              "\n",
              "<style>\n",
              "  .colab-df-quickchart {\n",
              "      --bg-color: #E8F0FE;\n",
              "      --fill-color: #1967D2;\n",
              "      --hover-bg-color: #E2EBFA;\n",
              "      --hover-fill-color: #174EA6;\n",
              "      --disabled-fill-color: #AAA;\n",
              "      --disabled-bg-color: #DDD;\n",
              "  }\n",
              "\n",
              "  [theme=dark] .colab-df-quickchart {\n",
              "      --bg-color: #3B4455;\n",
              "      --fill-color: #D2E3FC;\n",
              "      --hover-bg-color: #434B5C;\n",
              "      --hover-fill-color: #FFFFFF;\n",
              "      --disabled-bg-color: #3B4455;\n",
              "      --disabled-fill-color: #666;\n",
              "  }\n",
              "\n",
              "  .colab-df-quickchart {\n",
              "    background-color: var(--bg-color);\n",
              "    border: none;\n",
              "    border-radius: 50%;\n",
              "    cursor: pointer;\n",
              "    display: none;\n",
              "    fill: var(--fill-color);\n",
              "    height: 32px;\n",
              "    padding: 0;\n",
              "    width: 32px;\n",
              "  }\n",
              "\n",
              "  .colab-df-quickchart:hover {\n",
              "    background-color: var(--hover-bg-color);\n",
              "    box-shadow: 0 1px 2px rgba(60, 64, 67, 0.3), 0 1px 3px 1px rgba(60, 64, 67, 0.15);\n",
              "    fill: var(--button-hover-fill-color);\n",
              "  }\n",
              "\n",
              "  .colab-df-quickchart-complete:disabled,\n",
              "  .colab-df-quickchart-complete:disabled:hover {\n",
              "    background-color: var(--disabled-bg-color);\n",
              "    fill: var(--disabled-fill-color);\n",
              "    box-shadow: none;\n",
              "  }\n",
              "\n",
              "  .colab-df-spinner {\n",
              "    border: 2px solid var(--fill-color);\n",
              "    border-color: transparent;\n",
              "    border-bottom-color: var(--fill-color);\n",
              "    animation:\n",
              "      spin 1s steps(1) infinite;\n",
              "  }\n",
              "\n",
              "  @keyframes spin {\n",
              "    0% {\n",
              "      border-color: transparent;\n",
              "      border-bottom-color: var(--fill-color);\n",
              "      border-left-color: var(--fill-color);\n",
              "    }\n",
              "    20% {\n",
              "      border-color: transparent;\n",
              "      border-left-color: var(--fill-color);\n",
              "      border-top-color: var(--fill-color);\n",
              "    }\n",
              "    30% {\n",
              "      border-color: transparent;\n",
              "      border-left-color: var(--fill-color);\n",
              "      border-top-color: var(--fill-color);\n",
              "      border-right-color: var(--fill-color);\n",
              "    }\n",
              "    40% {\n",
              "      border-color: transparent;\n",
              "      border-right-color: var(--fill-color);\n",
              "      border-top-color: var(--fill-color);\n",
              "    }\n",
              "    60% {\n",
              "      border-color: transparent;\n",
              "      border-right-color: var(--fill-color);\n",
              "    }\n",
              "    80% {\n",
              "      border-color: transparent;\n",
              "      border-right-color: var(--fill-color);\n",
              "      border-bottom-color: var(--fill-color);\n",
              "    }\n",
              "    90% {\n",
              "      border-color: transparent;\n",
              "      border-bottom-color: var(--fill-color);\n",
              "    }\n",
              "  }\n",
              "</style>\n",
              "\n",
              "  <script>\n",
              "    async function quickchart(key) {\n",
              "      const quickchartButtonEl =\n",
              "        document.querySelector('#' + key + ' button');\n",
              "      quickchartButtonEl.disabled = true;  // To prevent multiple clicks.\n",
              "      quickchartButtonEl.classList.add('colab-df-spinner');\n",
              "      try {\n",
              "        const charts = await google.colab.kernel.invokeFunction(\n",
              "            'suggestCharts', [key], {});\n",
              "      } catch (error) {\n",
              "        console.error('Error during call to suggestCharts:', error);\n",
              "      }\n",
              "      quickchartButtonEl.classList.remove('colab-df-spinner');\n",
              "      quickchartButtonEl.classList.add('colab-df-quickchart-complete');\n",
              "    }\n",
              "    (() => {\n",
              "      let quickchartButtonEl =\n",
              "        document.querySelector('#df-af9cb1c9-af91-4e0e-ae0d-9d9d57e6d4ab button');\n",
              "      quickchartButtonEl.style.display =\n",
              "        google.colab.kernel.accessAllowed ? 'block' : 'none';\n",
              "    })();\n",
              "  </script>\n",
              "</div>\n",
              "    </div>\n",
              "  </div>\n"
            ]
          },
          "metadata": {},
          "execution_count": 81
        }
      ]
    },
    {
      "cell_type": "code",
      "source": [
        "train[[f'site{i}' for i in range(1, 11)]] = sites_df_train\n",
        "train[[f'time{i}' for i in range(1, 11)]] = times_df_train\n",
        "test[[f'site{i}' for i in range(1, 11)]] = sites_df_test\n",
        "test[[f'time{i}' for i in range(1, 11)]] = times_df_test"
      ],
      "metadata": {
        "id": "l-PugKFG-z2L"
      },
      "execution_count": null,
      "outputs": []
    },
    {
      "cell_type": "markdown",
      "source": [
        "## 1.2 Работа с разреженным форматом данных"
      ],
      "metadata": {
        "id": "YZAZP5-w1_vS"
      }
    },
    {
      "cell_type": "markdown",
      "source": [
        "Сформировать мешок сайтов. То есть необходимо создать новые матрицы, в которых строкам будут соответствовать сессии из 10 сайтов, а столбцам – индексы сайтов. На пересечении строки и столбца будет стоять число – количество раз, которое встретился сайт в сессии номер N."
      ],
      "metadata": {
        "id": "X832-2nj2FkR"
      }
    },
    {
      "cell_type": "code",
      "source": [
        "from sklearn.feature_extraction.text import CountVectorizer\n",
        "\n",
        "def row_to_text(row):\n",
        "    return ' '.join(map(str, row))\n",
        "\n",
        "sites_text_train = sites_df_train.apply(row_to_text, axis=1)\n",
        "sites_text_train"
      ],
      "metadata": {
        "colab": {
          "base_uri": "https://localhost:8080/"
        },
        "id": "y0GgQjmN2MXK",
        "outputId": "82beff4f-00f6-44b2-b81e-f4077252f4c8"
      },
      "execution_count": null,
      "outputs": [
        {
          "output_type": "execute_result",
          "data": {
            "text/plain": [
              "0                                     718 0 0 0 0 0 0 0 0 0\n",
              "1             890 941 3847 941 942 3846 3847 3846 1516 1518\n",
              "2         14769 39 14768 14769 37 39 14768 14768 14768 1...\n",
              "3                   782 782 782 782 782 782 782 782 782 782\n",
              "4                    22 177 175 178 177 178 175 177 177 178\n",
              "                                ...                        \n",
              "253556       3474 3474 141 2428 106 2428 2428 2428 2428 148\n",
              "253557         12727 12727 2215 38 2215 23 25444 2215 23 21\n",
              "253558                  2661 15004 5562 5562 5562 0 0 0 0 0\n",
              "253559                 812 676 814 22 39 812 814 570 22 570\n",
              "253560        -30594 1429 -30594 29 30 -30594 5779 30 35 33\n",
              "Length: 253561, dtype: object"
            ]
          },
          "metadata": {},
          "execution_count": 83
        }
      ]
    },
    {
      "cell_type": "code",
      "source": [
        "sites_text_test = sites_df_test.apply(row_to_text, axis=1)\n",
        "sites_text_test"
      ],
      "metadata": {
        "colab": {
          "base_uri": "https://localhost:8080/"
        },
        "id": "Gd59tu2J_C7u",
        "outputId": "ff1fb76b-23aa-4f5d-f13a-3b9a744ab635"
      },
      "execution_count": null,
      "outputs": [
        {
          "output_type": "execute_result",
          "data": {
            "text/plain": [
              "0              29 35 22 321 23 2211 6730 21 -20954 15336\n",
              "1                782 782 782 782 782 782 782 782 782 782\n",
              "2                      55 55 55 55 55 55 55 55 1445 1445\n",
              "3                1023 1022 50 222 202 3374 50 48 48 3374\n",
              "4                      301 301 301 66 67 69 70 68 71 167\n",
              "                              ...                       \n",
              "82792                         812 1039 676 0 0 0 0 0 0 0\n",
              "82793        300 302 302 300 300 1222 302 1218 1221 1216\n",
              "82794                  29 33 35 22 37 6779 30 21 23 6780\n",
              "82795               5828 23 21 804 21 3350 23 894 21 961\n",
              "82796    21 1098 1098 1098 1098 1098 1098 1098 1098 1098\n",
              "Length: 82797, dtype: object"
            ]
          },
          "metadata": {},
          "execution_count": 84
        }
      ]
    },
    {
      "cell_type": "code",
      "source": [
        "cv = CountVectorizer()\n",
        "new_features_train = cv.fit_transform(sites_text_train)\n",
        "new_features_train.shape"
      ],
      "metadata": {
        "colab": {
          "base_uri": "https://localhost:8080/"
        },
        "id": "sGCehFQ6_C1x",
        "outputId": "5b303964-988c-48e2-84c0-4f5452b336d3"
      },
      "execution_count": null,
      "outputs": [
        {
          "output_type": "execute_result",
          "data": {
            "text/plain": [
              "(253561, 32759)"
            ]
          },
          "metadata": {},
          "execution_count": 85
        }
      ]
    },
    {
      "cell_type": "code",
      "source": [
        "new_features_test = cv.fit_transform(sites_text_test)\n",
        "new_features_test.shape"
      ],
      "metadata": {
        "colab": {
          "base_uri": "https://localhost:8080/"
        },
        "id": "EWN3TF4L_Hjy",
        "outputId": "56acf5a3-a065-4e8f-f6f9-8726faaf724b"
      },
      "execution_count": null,
      "outputs": [
        {
          "output_type": "execute_result",
          "data": {
            "text/plain": [
              "(82797, 14640)"
            ]
          },
          "metadata": {},
          "execution_count": 86
        }
      ]
    },
    {
      "cell_type": "code",
      "source": [
        "from scipy.sparse import save_npz\n",
        "save_npz('train_matrix',new_features_train)\n",
        "save_npz('test_matrix',new_features_test)"
      ],
      "metadata": {
        "id": "ASrmjG8D_JTh"
      },
      "execution_count": null,
      "outputs": []
    },
    {
      "cell_type": "markdown",
      "source": [
        "## 1.3 Визуализация данных"
      ],
      "metadata": {
        "id": "l860hsPk5q9L"
      }
    },
    {
      "cell_type": "code",
      "source": [
        "train['start_hour'] = train['time1'].dt.hour\n",
        "train['start_hour'] = train['start_hour'][:253561]\n",
        "train['target'] = y"
      ],
      "metadata": {
        "id": "aCLRwJgsBJrM"
      },
      "execution_count": null,
      "outputs": []
    },
    {
      "cell_type": "code",
      "source": [
        "train[train['target'] == 1]['start_hour'].hist(color='black', bins=50)\n",
        "plt.title('Часы начала активности злоумышленника')\n",
        "plt.grid(False);"
      ],
      "metadata": {
        "colab": {
          "base_uri": "https://localhost:8080/",
          "height": 452
        },
        "id": "4KyxIpTaDaes",
        "outputId": "441a5afc-1b31-4a6f-ba16-f6890ffc73a8"
      },
      "execution_count": null,
      "outputs": [
        {
          "output_type": "display_data",
          "data": {
            "text/plain": [
              "<Figure size 640x480 with 1 Axes>"
            ],
            "image/png": "[encoded data removed]"
          },
          "metadata": {}
        }
      ]
    },
    {
      "cell_type": "code",
      "source": [
        "train[train['target'] == 0]['start_hour'].hist(color='black', bins=40)\n",
        "plt.title('Часы начала активности обычного пользователя')\n",
        "plt.grid(False);"
      ],
      "metadata": {
        "colab": {
          "base_uri": "https://localhost:8080/",
          "height": 452
        },
        "id": "CQAPc-E4FcW4",
        "outputId": "8655dcf8-0a2f-4f4b-a153-9471a3c16a7d"
      },
      "execution_count": null,
      "outputs": [
        {
          "output_type": "display_data",
          "data": {
            "text/plain": [
              "<Figure size 640x480 with 1 Axes>"
            ],
            "image/png": "[encoded data removed]"
          },
          "metadata": {}
        }
      ]
    },
    {
      "cell_type": "code",
      "source": [
        "train['weekday'] = train['time1'].dt.weekday\n",
        "train['weekday'] = train['weekday'][:253561]\n",
        "train[train['target'] == 0]['weekday'].hist(color='black', bins=40)\n",
        "plt.title('Часы начала активности обычного пользователя')\n",
        "plt.grid(False);"
      ],
      "metadata": {
        "colab": {
          "base_uri": "https://localhost:8080/",
          "height": 452
        },
        "id": "Fq37I5LlFjwh",
        "outputId": "2ee69f3c-1353-49b5-b9d6-c86188798827"
      },
      "execution_count": null,
      "outputs": [
        {
          "output_type": "display_data",
          "data": {
            "text/plain": [
              "<Figure size 640x480 with 1 Axes>"
            ],
            "image/png": "[encoded data removed]"
          },
          "metadata": {}
        }
      ]
    },
    {
      "cell_type": "code",
      "source": [
        "train[train['target'] == 1]['weekday'].hist(color='black', bins=40)\n",
        "plt.title('Часы начала активности злоумышленника')\n",
        "plt.grid(False);"
      ],
      "metadata": {
        "colab": {
          "base_uri": "https://localhost:8080/",
          "height": 452
        },
        "id": "vJqEoApCF_XA",
        "outputId": "ef28ee7e-c844-4d06-f246-13d56aafcec0"
      },
      "execution_count": null,
      "outputs": [
        {
          "output_type": "display_data",
          "data": {
            "text/plain": [
              "<Figure size 640x480 with 1 Axes>"
            ],
            "image/png": "[encoded data removed]"
          },
          "metadata": {}
        }
      ]
    },
    {
      "cell_type": "code",
      "source": [
        "train['weekend'] = train['weekday'].apply(lambda x: 1 if x == 5 or x == 6 else 0)\n",
        "train['weekend']"
      ],
      "metadata": {
        "colab": {
          "base_uri": "https://localhost:8080/"
        },
        "id": "c5cVEs8XAcdH",
        "outputId": "ad7c980a-9f56-4f90-8faf-0b60afa5dce3"
      },
      "execution_count": null,
      "outputs": [
        {
          "output_type": "execute_result",
          "data": {
            "text/plain": [
              "0         0\n",
              "1         1\n",
              "2         0\n",
              "3         0\n",
              "4         0\n",
              "         ..\n",
              "253556    0\n",
              "253557    0\n",
              "253558    0\n",
              "253559    0\n",
              "253560    0\n",
              "Name: weekend, Length: 253561, dtype: int64"
            ]
          },
          "metadata": {},
          "execution_count": 94
        }
      ]
    },
    {
      "cell_type": "code",
      "source": [
        "train['weekend'] = train['weekend'][:253561]\n",
        "train[train['target'] == 0]['weekend'].hist(color='black', bins=20)\n",
        "plt.title('Часы начала активности обычного пользователя')\n",
        "plt.grid(False);"
      ],
      "metadata": {
        "colab": {
          "base_uri": "https://localhost:8080/",
          "height": 452
        },
        "id": "HXOFIzNYAes1",
        "outputId": "fbc18bb4-27de-4b1d-a5c7-fdabafca4397"
      },
      "execution_count": null,
      "outputs": [
        {
          "output_type": "display_data",
          "data": {
            "text/plain": [
              "<Figure size 640x480 with 1 Axes>"
            ],
            "image/png": "[encoded data removed]"
          },
          "metadata": {}
        }
      ]
    },
    {
      "cell_type": "code",
      "source": [
        "train['weekend'] = train['weekend'][:253561]\n",
        "train[train['target'] == 1]['weekend'].hist(color='black', bins=20)\n",
        "plt.title('Часы начала активности злоумышленника')\n",
        "plt.grid(False);"
      ],
      "metadata": {
        "colab": {
          "base_uri": "https://localhost:8080/",
          "height": 452
        },
        "id": "cwYpnglZAgUi",
        "outputId": "c5650b2a-c131-47dd-e717-e9b743c510a2"
      },
      "execution_count": null,
      "outputs": [
        {
          "output_type": "display_data",
          "data": {
            "text/plain": [
              "<Figure size 640x480 with 1 Axes>"
            ],
            "image/png": "[encoded data removed]"
          },
          "metadata": {}
        }
      ]
    },
    {
      "cell_type": "code",
      "source": [
        "train['start_hour'] = train['time1'].dt.hour\n",
        "train['start_hour'] = train['start_hour'][:253561]"
      ],
      "metadata": {
        "id": "vohmESg3Aiaq"
      },
      "execution_count": null,
      "outputs": []
    },
    {
      "cell_type": "markdown",
      "source": [
        "## 1.4 Конструирование признаков (Feature Engineering)"
      ],
      "metadata": {
        "id": "_x_-oMgJHFs6"
      }
    },
    {
      "cell_type": "markdown",
      "source": [
        "Необходимо создать такой признак, который будет представлять собой число вида ГГГГММ от той даты, когда проходила сессия. Например, 201407 - 2014 год и 7 месяц. Таким образом, мы будем учитывать помесячный линейный тренд за весь период предоставленных данных."
      ],
      "metadata": {
        "id": "KhSeqLUpHScJ"
      }
    },
    {
      "cell_type": "code",
      "source": [
        "train['ГГГГММ'] = train['time1'].apply(lambda x: str(x.year)) +\\\n",
        "    train['time1'].apply(lambda x: '0'+str(x.month) if len(str(x.month)) < 2 else str(x.month))\n",
        "\n",
        "train['ГГГГММ'] = train['ГГГГММ'].astype(\"int32\")\n",
        "train['ГГГГММ']"
      ],
      "metadata": {
        "colab": {
          "base_uri": "https://localhost:8080/"
        },
        "id": "0eUHZaZGGGHz",
        "outputId": "70230e75-1146-4467-9635-f8447d9ec58d"
      },
      "execution_count": null,
      "outputs": [
        {
          "output_type": "execute_result",
          "data": {
            "text/plain": [
              "0         201402\n",
              "1         201402\n",
              "2         201312\n",
              "3         201403\n",
              "4         201402\n",
              "           ...  \n",
              "253556    201311\n",
              "253557    201303\n",
              "253558    201309\n",
              "253559    201312\n",
              "253560    201404\n",
              "Name: ГГГГММ, Length: 253561, dtype: int32"
            ]
          },
          "metadata": {},
          "execution_count": 98
        }
      ]
    },
    {
      "cell_type": "code",
      "source": [
        "for col in times_df_test.columns:\n",
        "    times_df_test[col] = pd.to_datetime(times_df_test[col]).astype('int64') / 10**9\n",
        "times_df_test.info()"
      ],
      "metadata": {
        "colab": {
          "base_uri": "https://localhost:8080/"
        },
        "id": "S-nIU0fKHdGr",
        "outputId": "308d0a9c-ddea-4475-a62f-c5bf57484af4"
      },
      "execution_count": null,
      "outputs": [
        {
          "output_type": "stream",
          "name": "stdout",
          "text": [
            "<class 'pandas.core.frame.DataFrame'>\n",
            "RangeIndex: 82797 entries, 0 to 82796\n",
            "Data columns (total 10 columns):\n",
            " #   Column  Non-Null Count  Dtype  \n",
            "---  ------  --------------  -----  \n",
            " 0   time1   82797 non-null  float64\n",
            " 1   time2   82797 non-null  float64\n",
            " 2   time3   82797 non-null  float64\n",
            " 3   time4   82797 non-null  float64\n",
            " 4   time5   82797 non-null  float64\n",
            " 5   time6   82797 non-null  float64\n",
            " 6   time7   82797 non-null  float64\n",
            " 7   time8   82797 non-null  float64\n",
            " 8   time9   82797 non-null  float64\n",
            " 9   time10  82797 non-null  float64\n",
            "dtypes: float64(10)\n",
            "memory usage: 6.3 MB\n"
          ]
        }
      ]
    },
    {
      "cell_type": "code",
      "source": [
        "for col in times_df_train.columns:\n",
        "    times_df_train[col] = pd.to_datetime(times_df_train[col]).astype('int64') / 10**9\n",
        "times_df_train.info()"
      ],
      "metadata": {
        "id": "MNYNMh5FIR3N",
        "colab": {
          "base_uri": "https://localhost:8080/"
        },
        "outputId": "e44ff6ba-4633-42b9-9fd2-e2c0eb4c7287"
      },
      "execution_count": null,
      "outputs": [
        {
          "output_type": "stream",
          "name": "stdout",
          "text": [
            "<class 'pandas.core.frame.DataFrame'>\n",
            "RangeIndex: 253561 entries, 0 to 253560\n",
            "Data columns (total 10 columns):\n",
            " #   Column  Non-Null Count   Dtype  \n",
            "---  ------  --------------   -----  \n",
            " 0   time1   253561 non-null  float64\n",
            " 1   time2   253561 non-null  float64\n",
            " 2   time3   253561 non-null  float64\n",
            " 3   time4   253561 non-null  float64\n",
            " 4   time5   253561 non-null  float64\n",
            " 5   time6   253561 non-null  float64\n",
            " 6   time7   253561 non-null  float64\n",
            " 7   time8   253561 non-null  float64\n",
            " 8   time9   253561 non-null  float64\n",
            " 9   time10  253561 non-null  float64\n",
            "dtypes: float64(10)\n",
            "memory usage: 19.3 MB\n"
          ]
        }
      ]
    },
    {
      "cell_type": "code",
      "source": [
        "train[[f'site{i}' for i in range(1, 11)]] = sites_df_train\n",
        "train[[f'time{i}' for i in range(1, 11)]] = times_df_train\n",
        "test[[f'site{i}' for i in range(1, 11)]] = sites_df_test\n",
        "test[[f'time{i}' for i in range(1, 11)]] = times_df_test"
      ],
      "metadata": {
        "id": "91zfrCwKAsiQ"
      },
      "execution_count": null,
      "outputs": []
    },
    {
      "cell_type": "code",
      "source": [
        "train.info()"
      ],
      "metadata": {
        "colab": {
          "base_uri": "https://localhost:8080/"
        },
        "id": "mK-dDNYIAvZT",
        "outputId": "2fca02c0-e674-422c-dd86-613964b28a25"
      },
      "execution_count": null,
      "outputs": [
        {
          "output_type": "stream",
          "name": "stdout",
          "text": [
            "<class 'pandas.core.frame.DataFrame'>\n",
            "RangeIndex: 253561 entries, 0 to 253560\n",
            "Data columns (total 26 columns):\n",
            " #   Column      Non-Null Count   Dtype  \n",
            "---  ------      --------------   -----  \n",
            " 0   session_id  253561 non-null  int64  \n",
            " 1   site1       253561 non-null  int16  \n",
            " 2   time1       253561 non-null  float64\n",
            " 3   site2       253561 non-null  int16  \n",
            " 4   time2       253561 non-null  float64\n",
            " 5   site3       253561 non-null  int16  \n",
            " 6   time3       253561 non-null  float64\n",
            " 7   site4       253561 non-null  int16  \n",
            " 8   time4       253561 non-null  float64\n",
            " 9   site5       253561 non-null  int16  \n",
            " 10  time5       253561 non-null  float64\n",
            " 11  site6       253561 non-null  int16  \n",
            " 12  time6       253561 non-null  float64\n",
            " 13  site7       253561 non-null  int16  \n",
            " 14  time7       253561 non-null  float64\n",
            " 15  site8       253561 non-null  int16  \n",
            " 16  time8       253561 non-null  float64\n",
            " 17  site9       253561 non-null  int16  \n",
            " 18  time9       253561 non-null  float64\n",
            " 19  site10      253561 non-null  int16  \n",
            " 20  time10      253561 non-null  float64\n",
            " 21  start_hour  253561 non-null  int64  \n",
            " 22  target      253561 non-null  int64  \n",
            " 23  weekday     253561 non-null  int64  \n",
            " 24  weekend     253561 non-null  int64  \n",
            " 25  ГГГГММ      253561 non-null  int32  \n",
            "dtypes: float64(10), int16(10), int32(1), int64(5)\n",
            "memory usage: 34.8 MB\n"
          ]
        }
      ]
    },
    {
      "cell_type": "code",
      "source": [
        "train.to_csv('train_df.csv', index = False)\n",
        "test.to_csv('test_df.csv', index = False)"
      ],
      "metadata": {
        "id": "y87SJCv8Awwp"
      },
      "execution_count": null,
      "outputs": []
    }
  ]
}